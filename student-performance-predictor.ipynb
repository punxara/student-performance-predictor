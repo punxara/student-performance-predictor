{
  "cells": [
    {
      "cell_type": "markdown",
      "metadata": {
        "id": "laHpsjaeuiY-"
      },
      "source": [
        "# Data preprocessing"
      ]
    },
    {
      "cell_type": "code",
      "execution_count": null,
      "metadata": {
        "id": "nYD4M-ymvZgz"
      },
      "outputs": [],
      "source": [
        "import pandas as pd\n",
        "import numpy as np\n",
        "import seaborn as sb\n",
        "import matplotlib.pyplot as plt"
      ]
    },
    {
      "cell_type": "markdown",
      "metadata": {
        "id": "t7vhZRimwxr6"
      },
      "source": [
        "Loading data from pandas library"
      ]
    },
    {
      "cell_type": "code",
      "execution_count": null,
      "metadata": {
        "colab": {
          "base_uri": "https://localhost:8080/",
          "height": 206
        },
        "id": "8HX50Bn8wzp9",
        "outputId": "c64f435a-5dd0-49bf-8226-47fdab94a0e9"
      },
      "outputs": [
        {
          "data": {
            "text/html": [
              "<div>\n",
              "<style scoped>\n",
              "    .dataframe tbody tr th:only-of-type {\n",
              "        vertical-align: middle;\n",
              "    }\n",
              "\n",
              "    .dataframe tbody tr th {\n",
              "        vertical-align: top;\n",
              "    }\n",
              "\n",
              "    .dataframe thead th {\n",
              "        text-align: right;\n",
              "    }\n",
              "</style>\n",
              "<table border=\"1\" class=\"dataframe\">\n",
              "  <thead>\n",
              "    <tr style=\"text-align: right;\">\n",
              "      <th></th>\n",
              "      <th>gender</th>\n",
              "      <th>race/ethnicity</th>\n",
              "      <th>parental level of education</th>\n",
              "      <th>lunch</th>\n",
              "      <th>test preparation course</th>\n",
              "      <th>math score</th>\n",
              "      <th>reading score</th>\n",
              "      <th>writing score</th>\n",
              "    </tr>\n",
              "  </thead>\n",
              "  <tbody>\n",
              "    <tr>\n",
              "      <th>0</th>\n",
              "      <td>male</td>\n",
              "      <td>group A</td>\n",
              "      <td>high school</td>\n",
              "      <td>standard</td>\n",
              "      <td>completed</td>\n",
              "      <td>67</td>\n",
              "      <td>67</td>\n",
              "      <td>63</td>\n",
              "    </tr>\n",
              "    <tr>\n",
              "      <th>1</th>\n",
              "      <td>female</td>\n",
              "      <td>group D</td>\n",
              "      <td>some high school</td>\n",
              "      <td>free/reduced</td>\n",
              "      <td>none</td>\n",
              "      <td>40</td>\n",
              "      <td>59</td>\n",
              "      <td>55</td>\n",
              "    </tr>\n",
              "    <tr>\n",
              "      <th>2</th>\n",
              "      <td>male</td>\n",
              "      <td>group E</td>\n",
              "      <td>some college</td>\n",
              "      <td>free/reduced</td>\n",
              "      <td>none</td>\n",
              "      <td>59</td>\n",
              "      <td>60</td>\n",
              "      <td>50</td>\n",
              "    </tr>\n",
              "    <tr>\n",
              "      <th>3</th>\n",
              "      <td>male</td>\n",
              "      <td>group B</td>\n",
              "      <td>high school</td>\n",
              "      <td>standard</td>\n",
              "      <td>none</td>\n",
              "      <td>77</td>\n",
              "      <td>78</td>\n",
              "      <td>68</td>\n",
              "    </tr>\n",
              "    <tr>\n",
              "      <th>4</th>\n",
              "      <td>male</td>\n",
              "      <td>group E</td>\n",
              "      <td>associate's degree</td>\n",
              "      <td>standard</td>\n",
              "      <td>completed</td>\n",
              "      <td>78</td>\n",
              "      <td>73</td>\n",
              "      <td>68</td>\n",
              "    </tr>\n",
              "  </tbody>\n",
              "</table>\n",
              "</div>"
            ],
            "text/plain": [
              "   gender race/ethnicity parental level of education         lunch  \\\n",
              "0    male        group A                 high school      standard   \n",
              "1  female        group D            some high school  free/reduced   \n",
              "2    male        group E                some college  free/reduced   \n",
              "3    male        group B                 high school      standard   \n",
              "4    male        group E          associate's degree      standard   \n",
              "\n",
              "  test preparation course  math score  reading score  writing score  \n",
              "0               completed          67             67             63  \n",
              "1                    none          40             59             55  \n",
              "2                    none          59             60             50  \n",
              "3                    none          77             78             68  \n",
              "4               completed          78             73             68  "
            ]
          },
          "execution_count": 3,
          "metadata": {},
          "output_type": "execute_result"
        }
      ],
      "source": [
        "data = pd.read_csv('student-performance-predictor-dataset.csv')\n",
        "data.head()"
      ]
    },
    {
      "cell_type": "markdown",
      "metadata": {
        "id": "jI-fQ_8WxA2r"
      },
      "source": [
        "First of all needed to check if dataset contains with null values"
      ]
    },
    {
      "cell_type": "code",
      "execution_count": null,
      "metadata": {
        "colab": {
          "base_uri": "https://localhost:8080/"
        },
        "id": "ovVIHwrKxIaL",
        "outputId": "12c63f02-d234-4ba7-be15-353c630d50b1"
      },
      "outputs": [
        {
          "data": {
            "text/plain": [
              "gender                         0\n",
              "race/ethnicity                 0\n",
              "parental level of education    0\n",
              "lunch                          0\n",
              "test preparation course        0\n",
              "math score                     0\n",
              "reading score                  0\n",
              "writing score                  0\n",
              "dtype: int64"
            ]
          },
          "execution_count": 4,
          "metadata": {},
          "output_type": "execute_result"
        }
      ],
      "source": [
        "data.isnull().sum()"
      ]
    },
    {
      "cell_type": "markdown",
      "metadata": {
        "id": "nQsMuEL2xTgx"
      },
      "source": [
        "Then the author needed to take a look at the data distribution before start the implementing."
      ]
    },
    {
      "cell_type": "code",
      "execution_count": null,
      "metadata": {
        "colab": {
          "base_uri": "https://localhost:8080/",
          "height": 296
        },
        "id": "YF73jiS2xi6g",
        "outputId": "e4c567f8-7e5d-4496-f19c-d9e19cfd9e8b"
      },
      "outputs": [
        {
          "data": {
            "text/plain": [
              "<AxesSubplot:xlabel='Count', ylabel='gender'>"
            ]
          },
          "execution_count": 5,
          "metadata": {},
          "output_type": "execute_result"
        },
        {
          "data": {
            "image/png": "[encoded data removed]",
            "text/plain": [
              "<Figure size 432x288 with 1 Axes>"
            ]
          },
          "metadata": {
            "needs_background": "light"
          },
          "output_type": "display_data"
        }
      ],
      "source": [
        "sb.histplot(y=data['gender'])"
      ]
    },
    {
      "cell_type": "markdown",
      "metadata": {
        "id": "q99N3LwExkXo"
      },
      "source": [
        "*Both male and female participant data are equally distibuted*"
      ]
    },
    {
      "cell_type": "code",
      "execution_count": null,
      "metadata": {
        "colab": {
          "base_uri": "https://localhost:8080/",
          "height": 378
        },
        "id": "ysxP3C-axyYj",
        "outputId": "c9e2915a-f9e8-45a5-d1fd-362c08b15ed1"
      },
      "outputs": [
        {
          "data": {
            "text/plain": [
              "<AxesSubplot:ylabel='writing score'>"
            ]
          },
          "execution_count": 6,
          "metadata": {},
          "output_type": "execute_result"
        },
        {
          "data": {
            "image/png": "[encoded data removed]",
            "text/plain": [
              "<Figure size 1296x432 with 3 Axes>"
            ]
          },
          "metadata": {
            "needs_background": "light"
          },
          "output_type": "display_data"
        }
      ],
      "source": [
        "ax = plt.subplots(nrows=1 , ncols= 3 , figsize=(18,6))\n",
        "\n",
        "#Math score plot\n",
        "ax = plt.subplot(1,3,1)\n",
        "sb.boxplot(y = data['math score'], ax=ax, palette='magma',)\n",
        "\n",
        "#Reading score plot\n",
        "ax = plt.subplot(1,3,2)\n",
        "sb.boxplot(y = data['reading score'], ax=ax, palette='rocket',)\n",
        "\n",
        "#Writing score plot\n",
        "ax = plt.subplot(1,3,3)\n",
        "sb.boxplot(y = data['writing score'], ax=ax, palette='Set3',)"
      ]
    },
    {
      "cell_type": "markdown",
      "metadata": {
        "id": "I29392Nnx27M"
      },
      "source": [
        "*Most of score from math, reading and writing are located in 60-80 range.*"
      ]
    },
    {
      "cell_type": "markdown",
      "metadata": {
        "id": "4jQr8XkRydlZ"
      },
      "source": [
        "Some of these data needed to be prepared in a specific manner in order to conduct the implementation.\n",
        "\n",
        "Needed to imporing lable encoder in order to data pre-processing. By the help of the lable encoder the strings from the data are converted to code in order to be read by the algorithm."
      ]
    },
    {
      "cell_type": "code",
      "execution_count": null,
      "metadata": {
        "colab": {
          "base_uri": "https://localhost:8080/",
          "height": 206
        },
        "id": "_bCwwTr_zFjN",
        "outputId": "c9b64e42-698d-4eb2-e768-fd75e7e17890"
      },
      "outputs": [
        {
          "data": {
            "text/html": [
              "<div>\n",
              "<style scoped>\n",
              "    .dataframe tbody tr th:only-of-type {\n",
              "        vertical-align: middle;\n",
              "    }\n",
              "\n",
              "    .dataframe tbody tr th {\n",
              "        vertical-align: top;\n",
              "    }\n",
              "\n",
              "    .dataframe thead th {\n",
              "        text-align: right;\n",
              "    }\n",
              "</style>\n",
              "<table border=\"1\" class=\"dataframe\">\n",
              "  <thead>\n",
              "    <tr style=\"text-align: right;\">\n",
              "      <th></th>\n",
              "      <th>gender</th>\n",
              "      <th>race/ethnicity</th>\n",
              "      <th>parental level of education</th>\n",
              "      <th>lunch</th>\n",
              "      <th>test preparation course</th>\n",
              "      <th>math score</th>\n",
              "      <th>reading score</th>\n",
              "      <th>writing score</th>\n",
              "    </tr>\n",
              "  </thead>\n",
              "  <tbody>\n",
              "    <tr>\n",
              "      <th>0</th>\n",
              "      <td>1</td>\n",
              "      <td>0</td>\n",
              "      <td>2</td>\n",
              "      <td>1</td>\n",
              "      <td>0</td>\n",
              "      <td>67</td>\n",
              "      <td>67</td>\n",
              "      <td>63</td>\n",
              "    </tr>\n",
              "    <tr>\n",
              "      <th>1</th>\n",
              "      <td>0</td>\n",
              "      <td>3</td>\n",
              "      <td>5</td>\n",
              "      <td>0</td>\n",
              "      <td>1</td>\n",
              "      <td>40</td>\n",
              "      <td>59</td>\n",
              "      <td>55</td>\n",
              "    </tr>\n",
              "    <tr>\n",
              "      <th>2</th>\n",
              "      <td>1</td>\n",
              "      <td>4</td>\n",
              "      <td>4</td>\n",
              "      <td>0</td>\n",
              "      <td>1</td>\n",
              "      <td>59</td>\n",
              "      <td>60</td>\n",
              "      <td>50</td>\n",
              "    </tr>\n",
              "    <tr>\n",
              "      <th>3</th>\n",
              "      <td>1</td>\n",
              "      <td>1</td>\n",
              "      <td>2</td>\n",
              "      <td>1</td>\n",
              "      <td>1</td>\n",
              "      <td>77</td>\n",
              "      <td>78</td>\n",
              "      <td>68</td>\n",
              "    </tr>\n",
              "    <tr>\n",
              "      <th>4</th>\n",
              "      <td>1</td>\n",
              "      <td>4</td>\n",
              "      <td>0</td>\n",
              "      <td>1</td>\n",
              "      <td>0</td>\n",
              "      <td>78</td>\n",
              "      <td>73</td>\n",
              "      <td>68</td>\n",
              "    </tr>\n",
              "  </tbody>\n",
              "</table>\n",
              "</div>"
            ],
            "text/plain": [
              "   gender  race/ethnicity  parental level of education  lunch  \\\n",
              "0       1               0                            2      1   \n",
              "1       0               3                            5      0   \n",
              "2       1               4                            4      0   \n",
              "3       1               1                            2      1   \n",
              "4       1               4                            0      1   \n",
              "\n",
              "   test preparation course  math score  reading score  writing score  \n",
              "0                        0          67             67             63  \n",
              "1                        1          40             59             55  \n",
              "2                        1          59             60             50  \n",
              "3                        1          77             78             68  \n",
              "4                        0          78             73             68  "
            ]
          },
          "execution_count": 7,
          "metadata": {},
          "output_type": "execute_result"
        }
      ],
      "source": [
        "from sklearn.preprocessing import LabelEncoder\n",
        "le=LabelEncoder()\n",
        "\n",
        "data['gender']=le.fit_transform(data['gender'])\n",
        "data['race/ethnicity']=le.fit_transform(data['race/ethnicity'])\n",
        "data['parental level of education']=le.fit_transform(data['parental level of education'])\n",
        "data['lunch']=le.fit_transform(data['lunch'])\n",
        "data['test preparation course']=le.fit_transform(data['test preparation course'])\n",
        "data.head()"
      ]
    },
    {
      "cell_type": "markdown",
      "metadata": {
        "id": "ta9gaaDiz3Yl"
      },
      "source": [
        "After converting data to machine-readable form, needed to define the independent variables and dependent variables. The author decided to predict the writing score according to students' gender, race/ethnicity, parent level of education, lunch, test preparation course status, and reading & math scores. Based on that,\n",
        "\n",
        "*   *Independent variable* – Writing score\n",
        "*   *Dependent variables* – Gender, race/ethnicity, parent level of education, lunch, test preparation course status, and reading & math scores"
      ]
    },
    {
      "cell_type": "code",
      "execution_count": null,
      "metadata": {
        "id": "4NeFKgns0Dup"
      },
      "outputs": [],
      "source": [
        "indp_var=data[['gender','race/ethnicity','parental level of education','lunch','test preparation course','reading score', 'math score']]\n",
        "dep_var=data['writing score']"
      ]
    },
    {
      "cell_type": "markdown",
      "metadata": {
        "id": "8R4ZX9f_0MBX"
      },
      "source": [
        "Here is the devided dependent variable data"
      ]
    },
    {
      "cell_type": "code",
      "execution_count": null,
      "metadata": {
        "colab": {
          "base_uri": "https://localhost:8080/"
        },
        "id": "k1wUP4550TuP",
        "outputId": "e577b11f-ac59-4c3c-df8a-e1acdf183dc6"
      },
      "outputs": [
        {
          "data": {
            "text/plain": [
              "0      63\n",
              "1      55\n",
              "2      50\n",
              "3      68\n",
              "4      68\n",
              "       ..\n",
              "995    65\n",
              "996    92\n",
              "997    41\n",
              "998    82\n",
              "999    62\n",
              "Name: writing score, Length: 1000, dtype: int64"
            ]
          },
          "execution_count": 9,
          "metadata": {},
          "output_type": "execute_result"
        }
      ],
      "source": [
        "dep_var"
      ]
    },
    {
      "cell_type": "markdown",
      "metadata": {
        "id": "uHiHT7bX0YvT"
      },
      "source": [
        "Here is the devided independent variable data"
      ]
    },
    {
      "cell_type": "code",
      "execution_count": null,
      "metadata": {
        "colab": {
          "base_uri": "https://localhost:8080/",
          "height": 424
        },
        "id": "leyMnKci0g1Q",
        "outputId": "ef8a6ef4-e1cd-4f8f-8187-86592e70a651"
      },
      "outputs": [
        {
          "data": {
            "text/html": [
              "<div>\n",
              "<style scoped>\n",
              "    .dataframe tbody tr th:only-of-type {\n",
              "        vertical-align: middle;\n",
              "    }\n",
              "\n",
              "    .dataframe tbody tr th {\n",
              "        vertical-align: top;\n",
              "    }\n",
              "\n",
              "    .dataframe thead th {\n",
              "        text-align: right;\n",
              "    }\n",
              "</style>\n",
              "<table border=\"1\" class=\"dataframe\">\n",
              "  <thead>\n",
              "    <tr style=\"text-align: right;\">\n",
              "      <th></th>\n",
              "      <th>gender</th>\n",
              "      <th>race/ethnicity</th>\n",
              "      <th>parental level of education</th>\n",
              "      <th>lunch</th>\n",
              "      <th>test preparation course</th>\n",
              "      <th>reading score</th>\n",
              "      <th>math score</th>\n",
              "    </tr>\n",
              "  </thead>\n",
              "  <tbody>\n",
              "    <tr>\n",
              "      <th>0</th>\n",
              "      <td>1</td>\n",
              "      <td>0</td>\n",
              "      <td>2</td>\n",
              "      <td>1</td>\n",
              "      <td>0</td>\n",
              "      <td>67</td>\n",
              "      <td>67</td>\n",
              "    </tr>\n",
              "    <tr>\n",
              "      <th>1</th>\n",
              "      <td>0</td>\n",
              "      <td>3</td>\n",
              "      <td>5</td>\n",
              "      <td>0</td>\n",
              "      <td>1</td>\n",
              "      <td>59</td>\n",
              "      <td>40</td>\n",
              "    </tr>\n",
              "    <tr>\n",
              "      <th>2</th>\n",
              "      <td>1</td>\n",
              "      <td>4</td>\n",
              "      <td>4</td>\n",
              "      <td>0</td>\n",
              "      <td>1</td>\n",
              "      <td>60</td>\n",
              "      <td>59</td>\n",
              "    </tr>\n",
              "    <tr>\n",
              "      <th>3</th>\n",
              "      <td>1</td>\n",
              "      <td>1</td>\n",
              "      <td>2</td>\n",
              "      <td>1</td>\n",
              "      <td>1</td>\n",
              "      <td>78</td>\n",
              "      <td>77</td>\n",
              "    </tr>\n",
              "    <tr>\n",
              "      <th>4</th>\n",
              "      <td>1</td>\n",
              "      <td>4</td>\n",
              "      <td>0</td>\n",
              "      <td>1</td>\n",
              "      <td>0</td>\n",
              "      <td>73</td>\n",
              "      <td>78</td>\n",
              "    </tr>\n",
              "    <tr>\n",
              "      <th>...</th>\n",
              "      <td>...</td>\n",
              "      <td>...</td>\n",
              "      <td>...</td>\n",
              "      <td>...</td>\n",
              "      <td>...</td>\n",
              "      <td>...</td>\n",
              "      <td>...</td>\n",
              "    </tr>\n",
              "    <tr>\n",
              "      <th>995</th>\n",
              "      <td>1</td>\n",
              "      <td>2</td>\n",
              "      <td>2</td>\n",
              "      <td>1</td>\n",
              "      <td>1</td>\n",
              "      <td>70</td>\n",
              "      <td>73</td>\n",
              "    </tr>\n",
              "    <tr>\n",
              "      <th>996</th>\n",
              "      <td>1</td>\n",
              "      <td>3</td>\n",
              "      <td>0</td>\n",
              "      <td>0</td>\n",
              "      <td>0</td>\n",
              "      <td>91</td>\n",
              "      <td>85</td>\n",
              "    </tr>\n",
              "    <tr>\n",
              "      <th>997</th>\n",
              "      <td>0</td>\n",
              "      <td>2</td>\n",
              "      <td>5</td>\n",
              "      <td>0</td>\n",
              "      <td>1</td>\n",
              "      <td>35</td>\n",
              "      <td>32</td>\n",
              "    </tr>\n",
              "    <tr>\n",
              "      <th>998</th>\n",
              "      <td>0</td>\n",
              "      <td>2</td>\n",
              "      <td>4</td>\n",
              "      <td>1</td>\n",
              "      <td>1</td>\n",
              "      <td>74</td>\n",
              "      <td>73</td>\n",
              "    </tr>\n",
              "    <tr>\n",
              "      <th>999</th>\n",
              "      <td>1</td>\n",
              "      <td>0</td>\n",
              "      <td>4</td>\n",
              "      <td>1</td>\n",
              "      <td>0</td>\n",
              "      <td>60</td>\n",
              "      <td>65</td>\n",
              "    </tr>\n",
              "  </tbody>\n",
              "</table>\n",
              "<p>1000 rows × 7 columns</p>\n",
              "</div>"
            ],
            "text/plain": [
              "     gender  race/ethnicity  parental level of education  lunch  \\\n",
              "0         1               0                            2      1   \n",
              "1         0               3                            5      0   \n",
              "2         1               4                            4      0   \n",
              "3         1               1                            2      1   \n",
              "4         1               4                            0      1   \n",
              "..      ...             ...                          ...    ...   \n",
              "995       1               2                            2      1   \n",
              "996       1               3                            0      0   \n",
              "997       0               2                            5      0   \n",
              "998       0               2                            4      1   \n",
              "999       1               0                            4      1   \n",
              "\n",
              "     test preparation course  reading score  math score  \n",
              "0                          0             67          67  \n",
              "1                          1             59          40  \n",
              "2                          1             60          59  \n",
              "3                          1             78          77  \n",
              "4                          0             73          78  \n",
              "..                       ...            ...         ...  \n",
              "995                        1             70          73  \n",
              "996                        0             91          85  \n",
              "997                        1             35          32  \n",
              "998                        1             74          73  \n",
              "999                        0             60          65  \n",
              "\n",
              "[1000 rows x 7 columns]"
            ]
          },
          "execution_count": 10,
          "metadata": {},
          "output_type": "execute_result"
        }
      ],
      "source": [
        "indp_var"
      ]
    },
    {
      "cell_type": "markdown",
      "metadata": {
        "id": "bIzs6GEu0py1"
      },
      "source": [
        "Then dataset is needed to be spilt into two in order to train and test the model. After spilling 30% of the data as the test dataset, the rest of the 70% data can be used for the implementation process.\n",
        "By importing relevent libraries from sklearn, the author can split data to train data and the test data."
      ]
    },
    {
      "cell_type": "code",
      "execution_count": null,
      "metadata": {
        "id": "o-wjsgz00w59"
      },
      "outputs": [],
      "source": [
        "from sklearn.model_selection import train_test_split\n",
        "indp_var_train,indp_var_test,dep_var_train,dep_var_test=train_test_split(indp_var,dep_var,test_size=0.3,random_state=0)"
      ]
    },
    {
      "cell_type": "markdown",
      "metadata": {
        "id": "YOtUQ7u31NiU"
      },
      "source": [
        "Here is the splited independent and dependent test and train data sizes"
      ]
    },
    {
      "cell_type": "code",
      "execution_count": null,
      "metadata": {
        "colab": {
          "base_uri": "https://localhost:8080/"
        },
        "id": "oBjB_qd81cy-",
        "outputId": "2ae9edf8-a7ab-4ddb-f4a3-77e6ebf48119"
      },
      "outputs": [
        {
          "data": {
            "text/plain": [
              "(300, 7)"
            ]
          },
          "execution_count": 12,
          "metadata": {},
          "output_type": "execute_result"
        }
      ],
      "source": [
        "indp_var_test.shape"
      ]
    },
    {
      "cell_type": "code",
      "execution_count": null,
      "metadata": {
        "colab": {
          "base_uri": "https://localhost:8080/"
        },
        "id": "5r6lf7-j1ygu",
        "outputId": "774a63ab-7438-48b1-b424-ec2000149f1b"
      },
      "outputs": [
        {
          "data": {
            "text/plain": [
              "(300,)"
            ]
          },
          "execution_count": 13,
          "metadata": {},
          "output_type": "execute_result"
        }
      ],
      "source": [
        "dep_var_test.shape"
      ]
    },
    {
      "cell_type": "code",
      "execution_count": null,
      "metadata": {
        "colab": {
          "base_uri": "https://localhost:8080/"
        },
        "id": "V0jT7HJX1yq0",
        "outputId": "c7f00d5b-efca-4cbe-ca1b-f2b3a01caa9c"
      },
      "outputs": [
        {
          "data": {
            "text/plain": [
              "(700, 7)"
            ]
          },
          "execution_count": 14,
          "metadata": {},
          "output_type": "execute_result"
        }
      ],
      "source": [
        "indp_var_train.shape"
      ]
    },
    {
      "cell_type": "code",
      "execution_count": null,
      "metadata": {
        "colab": {
          "base_uri": "https://localhost:8080/"
        },
        "id": "quIDVT0E1yzN",
        "outputId": "6f85448d-4f1f-44b4-a0a2-5cd280132922"
      },
      "outputs": [
        {
          "data": {
            "text/plain": [
              "(700,)"
            ]
          },
          "execution_count": 15,
          "metadata": {},
          "output_type": "execute_result"
        }
      ],
      "source": [
        "dep_var_train.shape"
      ]
    },
    {
      "cell_type": "markdown",
      "source": [
        "# Data modeling"
      ],
      "metadata": {
        "id": "T-FcQQcY_GWL"
      }
    },
    {
      "cell_type": "markdown",
      "metadata": {
        "id": "zDsPx4Ui2S1z"
      },
      "source": [
        "the author can start the modeling by *creating* the regression model instance"
      ]
    },
    {
      "cell_type": "code",
      "execution_count": null,
      "metadata": {
        "colab": {
          "base_uri": "https://localhost:8080/"
        },
        "id": "uP3O9-CT2bPs",
        "outputId": "155262cc-e76a-419e-a987-da005ca70d09"
      },
      "outputs": [
        {
          "data": {
            "text/plain": [
              "RandomForestRegressor(random_state=1)"
            ]
          },
          "execution_count": 16,
          "metadata": {},
          "output_type": "execute_result"
        }
      ],
      "source": [
        "from sklearn.ensemble import RandomForestRegressor\n",
        "rf = RandomForestRegressor(n_estimators = 100,random_state = 1)\n",
        "rf"
      ]
    },
    {
      "cell_type": "markdown",
      "metadata": {
        "id": "5RibrlGC33h9"
      },
      "source": [
        "Fitting model with train data set in order to train the model"
      ]
    },
    {
      "cell_type": "code",
      "execution_count": null,
      "metadata": {
        "colab": {
          "base_uri": "https://localhost:8080/"
        },
        "id": "R5BIsTJ22-IW",
        "outputId": "19679074-8761-4f75-c311-63b2c1950cb6"
      },
      "outputs": [
        {
          "data": {
            "text/plain": [
              "RandomForestRegressor(random_state=1)"
            ]
          },
          "execution_count": 17,
          "metadata": {},
          "output_type": "execute_result"
        }
      ],
      "source": [
        "rf.fit(indp_var_train, dep_var_train)"
      ]
    },
    {
      "cell_type": "markdown",
      "metadata": {
        "id": "0FCWQpq04Odp"
      },
      "source": [
        "Getting predicted dependent variable values (Writing scores) based on independent variables (Gender, Race/ethnicity, ...) from test data"
      ]
    },
    {
      "cell_type": "code",
      "execution_count": null,
      "metadata": {
        "colab": {
          "base_uri": "https://localhost:8080/"
        },
        "id": "VSX1xiv14Ozu",
        "outputId": "818e8858-03f5-4278-bda8-3d832ccb8cab"
      },
      "outputs": [
        {
          "name": "stdout",
          "output_type": "stream",
          "text": [
            "[53.9        85.28       58.52       62.33       43.11       49.45\n",
            " 63.3        72.5        60.08       97.43       33.17       71.5\n",
            " 81.21       76.97       68.87       62.39       82.26       53.46\n",
            " 86.84       86.78       73.63       81.37       69.61       54.71\n",
            " 79.23       60.96       45.89       64.5        66.53       56.15\n",
            " 65.19       59.87       72.54       77.19       46.59       90.03\n",
            " 51.52       58.96       63.52       73.47       87.01       86.7\n",
            " 85.35       77.66       64.71       60.47       71.49       74.85\n",
            " 67.69       92.34       89.37       79.14       56.19       72.16\n",
            " 79.26       70.31       69.15       70.97       74.63       86.11833333\n",
            " 74.15       62.38       87.49       62.25       60.15       48.51\n",
            " 81.1        70.09       61.14       45.46       71.22       42.28\n",
            " 46.76       65.33       66.2        56.54       77.58       85.92\n",
            " 71.43       61.48       46.78       89.11       54.49       75.22\n",
            " 66.94       56.24       66.89       86.02       62.34       65.16\n",
            " 87.65       62.84       62.94       75.09       84.59666667 94.53\n",
            " 34.67       76.03       63.86       46.51       47.2        57.9\n",
            " 72.74       73.27       80.34       54.57       79.12       56.74\n",
            " 54.66       77.94       45.53       74.86       85.62       84.68\n",
            " 68.94       86.36       73.68       77.18       71.41       82.39\n",
            " 98.81       65.9        47.31       65.76       65.55       70.73\n",
            " 67.71       40.79       59.55       52.65       64.32       75.56\n",
            " 85.58       54.93       57.91       82.12       44.85       55.03\n",
            " 65.81       55.66       74.31       45.46       75.58       81.87\n",
            " 48.82       40.2        89.88       73.25       53.44       89.34\n",
            " 68.52       77.49       65.88       64.83       73.31       54.15\n",
            " 78.59       63.95       92.18       78.5        77.28       80.44\n",
            " 63.85       78.97       67.15       90.63       54.91       82.62\n",
            " 46.24       63.51       59.72       48.78       53.64       96.32\n",
            " 47.03       95.05       85.37       85.56       67.85       72.74\n",
            " 82.11       64.16       67.05       89.02       61.46       52.48\n",
            " 41.81       69.43       84.26       79.16       82.79       34.91\n",
            " 88.11       75.88       58.8        57.54       59.08       56.05\n",
            " 43.59       78.36       74.24       58.57       51.31       67.05\n",
            " 71.82       63.14       92.81       47.07       77.96       78.91\n",
            " 34.57       64.79       63.22       74.14       86.33       61.56\n",
            " 97.47       59.28       72.46       59.69       52.86       71.49\n",
            " 85.87083333 71.57       90.74       60.19       94.82       75.12\n",
            " 42.56       81.69       92.97       79.92       87.77       87.73\n",
            " 63.89       45.13       47.02       89.17       71.87       46.48\n",
            " 87.81       87.54       65.89       64.92       95.11       44.06\n",
            " 66.52       55.35       70.67       61.29       72.04       60.58\n",
            " 65.76       57.61       79.48       70.71       74.04       62.44\n",
            " 58.84       67.51       70.65       44.23       71.49       61.53\n",
            " 74.13       45.1        66.59       85.82       58.85       64.55\n",
            " 82.82       63.92       65.58       93.52       50.27       55.24\n",
            " 81.38       46.59       41.71       67.91       71.59       66.22\n",
            " 81.33       98.45       64.39       84.68       55.28       57.\n",
            " 59.89       46.56       65.62       71.66       40.46       58.22\n",
            " 40.38       65.2        74.93       70.85       70.45       86.40416667]\n"
          ]
        }
      ],
      "source": [
        "dep_var_pred = rf.predict(indp_var_test)\n",
        "print(dep_var_pred)"
      ]
    },
    {
      "cell_type": "markdown",
      "metadata": {
        "id": "cN2mjI1c6Kbh"
      },
      "source": [
        "# Evaluation and Testing"
      ]
    },
    {
      "cell_type": "markdown",
      "metadata": {
        "id": "ReefHPFvxRBs"
      },
      "source": [
        "In oder to test the model the author needed to compare expected exam score against the predicted exam score."
      ]
    },
    {
      "cell_type": "code",
      "execution_count": null,
      "metadata": {
        "colab": {
          "base_uri": "https://localhost:8080/"
        },
        "id": "BtNkZ81N0MzU",
        "outputId": "9da64c1c-56a8-4bdb-8209-e035c537b149"
      },
      "outputs": [
        {
          "name": "stdout",
          "output_type": "stream",
          "text": [
            "Expected exam scores 993    58\n",
            "859    79\n",
            "298    50\n",
            "553    66\n",
            "672    45\n",
            "       ..\n",
            "167    68\n",
            "998    82\n",
            "984    75\n",
            "491    76\n",
            "10     85\n",
            "Name: writing score, Length: 300, dtype: int64\n"
          ]
        }
      ],
      "source": [
        "print('Expected exam scores', dep_var_test)"
      ]
    },
    {
      "cell_type": "code",
      "execution_count": null,
      "metadata": {
        "colab": {
          "base_uri": "https://localhost:8080/"
        },
        "id": "qKPb6rt405Br",
        "outputId": "991c61f5-bcdc-47cf-b37a-3d50b0b18552"
      },
      "outputs": [
        {
          "name": "stdout",
          "output_type": "stream",
          "text": [
            "Predicted exam scores [53.9        85.28       58.52       62.33       43.11       49.45\n",
            " 63.3        72.5        60.08       97.43       33.17       71.5\n",
            " 81.21       76.97       68.87       62.39       82.26       53.46\n",
            " 86.84       86.78       73.63       81.37       69.61       54.71\n",
            " 79.23       60.96       45.89       64.5        66.53       56.15\n",
            " 65.19       59.87       72.54       77.19       46.59       90.03\n",
            " 51.52       58.96       63.52       73.47       87.01       86.7\n",
            " 85.35       77.66       64.71       60.47       71.49       74.85\n",
            " 67.69       92.34       89.37       79.14       56.19       72.16\n",
            " 79.26       70.31       69.15       70.97       74.63       86.11833333\n",
            " 74.15       62.38       87.49       62.25       60.15       48.51\n",
            " 81.1        70.09       61.14       45.46       71.22       42.28\n",
            " 46.76       65.33       66.2        56.54       77.58       85.92\n",
            " 71.43       61.48       46.78       89.11       54.49       75.22\n",
            " 66.94       56.24       66.89       86.02       62.34       65.16\n",
            " 87.65       62.84       62.94       75.09       84.59666667 94.53\n",
            " 34.67       76.03       63.86       46.51       47.2        57.9\n",
            " 72.74       73.27       80.34       54.57       79.12       56.74\n",
            " 54.66       77.94       45.53       74.86       85.62       84.68\n",
            " 68.94       86.36       73.68       77.18       71.41       82.39\n",
            " 98.81       65.9        47.31       65.76       65.55       70.73\n",
            " 67.71       40.79       59.55       52.65       64.32       75.56\n",
            " 85.58       54.93       57.91       82.12       44.85       55.03\n",
            " 65.81       55.66       74.31       45.46       75.58       81.87\n",
            " 48.82       40.2        89.88       73.25       53.44       89.34\n",
            " 68.52       77.49       65.88       64.83       73.31       54.15\n",
            " 78.59       63.95       92.18       78.5        77.28       80.44\n",
            " 63.85       78.97       67.15       90.63       54.91       82.62\n",
            " 46.24       63.51       59.72       48.78       53.64       96.32\n",
            " 47.03       95.05       85.37       85.56       67.85       72.74\n",
            " 82.11       64.16       67.05       89.02       61.46       52.48\n",
            " 41.81       69.43       84.26       79.16       82.79       34.91\n",
            " 88.11       75.88       58.8        57.54       59.08       56.05\n",
            " 43.59       78.36       74.24       58.57       51.31       67.05\n",
            " 71.82       63.14       92.81       47.07       77.96       78.91\n",
            " 34.57       64.79       63.22       74.14       86.33       61.56\n",
            " 97.47       59.28       72.46       59.69       52.86       71.49\n",
            " 85.87083333 71.57       90.74       60.19       94.82       75.12\n",
            " 42.56       81.69       92.97       79.92       87.77       87.73\n",
            " 63.89       45.13       47.02       89.17       71.87       46.48\n",
            " 87.81       87.54       65.89       64.92       95.11       44.06\n",
            " 66.52       55.35       70.67       61.29       72.04       60.58\n",
            " 65.76       57.61       79.48       70.71       74.04       62.44\n",
            " 58.84       67.51       70.65       44.23       71.49       61.53\n",
            " 74.13       45.1        66.59       85.82       58.85       64.55\n",
            " 82.82       63.92       65.58       93.52       50.27       55.24\n",
            " 81.38       46.59       41.71       67.91       71.59       66.22\n",
            " 81.33       98.45       64.39       84.68       55.28       57.\n",
            " 59.89       46.56       65.62       71.66       40.46       58.22\n",
            " 40.38       65.2        74.93       70.85       70.45       86.40416667]\n"
          ]
        }
      ],
      "source": [
        "print('Predicted exam scores', dep_var_pred)"
      ]
    },
    {
      "cell_type": "markdown",
      "metadata": {
        "id": "R_JQeikvzYhZ"
      },
      "source": [
        "When comparing an expected and correct values, take look at the first five data rows from each actual writing exam scores from test data and predicted exam scores from test data.\n",
        "\n",
        "![Screenshot 2023-01-17 at 6.34.48 PM.png](data:image/png;base64,iVBORw0KGgoAAAANSUhEUgAAAoQAAAEICAYAAADGLeVxAAABY2lDQ1BJQ0MgUHJvZmlsZQAAKJFjYGDiSSwoyGFhYGDIzSspCnJ3UoiIjFJgf87AyCDIIMTAzSCZmFxc4BgQ4ANUwgCjUcG3a0DVQHBZF2TWY56ZH/bxBhWE2Z1/tq/iTRumehTAlZJanAyk/wCxSXJBUQkDA6MBkB1QXlIAYjcA2SJFQEcB2VNA7HQIewWInQRh7wGrCQlyBrIvANkCyRmJKUD2AyBbJwlJPB2JnZtTmgx1A8j1PKl5ocFAWgKIZRhcGFwZfIBQgSGYwYjBHIgNGQIZgnHoMQHrcWbIZyhgqGQoYshkSGfIYCgB6nYEihQw5DCkAtmeDHkMyQx6DDpAthGDARAbg8IaPQwRYoUfGBgsJgGtakaIxcYwMGwD+ovnGEJMvQvonT4GhiNPChKLEuEhy/iNpTjN2AjC5t7OwMA67f//z+EMDOyaDAx/r////3v7//9/lzEwMN9iYDjwDQBPUGZ5xU/oQgAAAIplWElmTU0AKgAAAAgABAEaAAUAAAABAAAAPgEbAAUAAAABAAAARgEoAAMAAAABAAIAAIdpAAQAAAABAAAATgAAAAAAAACQAAAAAQAAAJAAAAABAAOShgAHAAAAEgAAAHigAgAEAAAAAQAAAoSgAwAEAAAAAQAAAQgAAAAAQVNDSUkAAABTY3JlZW5zaG90N7kq4QAAAAlwSFlzAAAWJQAAFiUBSVIk8AAAAdZpVFh0WE1MOmNvbS5hZG9iZS54bXAAAAAAADx4OnhtcG1ldGEgeG1sbnM6eD0iYWRvYmU6bnM6bWV0YS8iIHg6eG1wdGs9IlhNUCBDb3JlIDYuMC4wIj4KICAgPHJkZjpSREYgeG1sbnM6cmRmPSJodHRwOi8vd3d3LnczLm9yZy8xOTk5LzAyLzIyLXJkZi1zeW50YXgtbnMjIj4KICAgICAgPHJkZjpEZXNjcmlwdGlvbiByZGY6YWJvdXQ9IiIKICAgICAgICAgICAgeG1sbnM6ZXhpZj0iaHR0cDovL25zLmFkb2JlLmNvbS9leGlmLzEuMC8iPgogICAgICAgICA8ZXhpZjpQaXhlbFlEaW1lbnNpb24+MjY0PC9leGlmOlBpeGVsWURpbWVuc2lvbj4KICAgICAgICAgPGV4aWY6UGl4ZWxYRGltZW5zaW9uPjY0NDwvZXhpZjpQaXhlbFhEaW1lbnNpb24+CiAgICAgICAgIDxleGlmOlVzZXJDb21tZW50PlNjcmVlbnNob3Q8L2V4aWY6VXNlckNvbW1lbnQ+CiAgICAgIDwvcmRmOkRlc2NyaXB0aW9uPgogICA8L3JkZjpSREY+CjwveDp4bXBtZXRhPgrr5MeCAAAAHGlET1QAAAACAAAAAAAAAIQAAAAoAAAAhAAAAIQAADbIkfXH1AAANpRJREFUeAHsnQncVdP6x1coIkPIFKJBiDLPkiHXlSFDQihkCLmU+SL3cg0NbkUZQihjZSgl46VQuWaVWeEaonsjU4ba/+e3/j3bOuvd55x99j7nHdq/5/N537PHtdf67rWf/axnrfXseoGIoZAACZAACZAACZAACWSWQD0ahJm99yw4CZAACZAACZAACVgCNAhZEUiABEiABEiABEgg4wRoEGa8ArD4JEACJEACJEACJECDkHWABEiABEiABEiABDJOgAZhxisAi08CJEACJEACJEACNAhZB0iABEiABEiABEgg4wRoEGa8ArD4JEACJEACJEACJECDkHWABEiABEiABEiABDJOgAZhxisAi08CJEACJEACJEACNAhZB0iABEiABEiABEgg4wRoEGa8ArD4JEACJEACJEACJFDUIKxXrx4pkQAJkAAJkAAJkAAJ1GEC8qnigrmnQVgQD3eSAAmQAAmQAAmQQN0nUDaD8OVp0+o+DZaABEggUwR22nVXW17qr0zddhaWBEjAIaB6kAahA4WLJEAC2SKgipAGYbbuO0tLAiTwBwHVgzQI/2DCJRIggYwRUEVIgzBjN57FJQESCAmoHqRBGCLhAgmQQNYIqCKkQZi1O8/ykgAJKAHVgzQIlQh/SYAEMkdAFSENwszdehaYBEhgKQHVgzQIWSVIgAQyS0AVIQ3CzFYBFpwEMk9A9SANwsxXBQIggewSUEVIgzC7dYAlJ4GsE1A9SIMw6zWB5SeBDBNQRUiDMMOVgEUngYwTUD1IgzDjFSFJ8d997z0zeMgQ89NPP5kf5W/Rzz+bJRLh/KguXcyJ3bsnSZLnkECNEFBFSIPw//GX8mx/+NFHZs6cOeF9a9mihdl0003D9bq6UAqDulpG5psEXAKqB2vUIDymWzczZ+5cN19Fl5dbbjnz3DPPmAYNGhQ9lgdUhsDcTz4xl15+uXn//fdzLnCc3M+zzzorZxtXSKA2E1BFmMQgLKa/oKtWXnlls/baa5utttzSdOjQweyx++61GYcp5dkePHSoufe++8LyoDHY6/TTw/W6ulAKg7paRuabBFwCqgdr1CB86umnzcBBg8yCb79182ZWXHFFa/Ahcz/88EPOPqxMfe45e0yVHRnZAF5vv/12WNqtt9rKNG7cOFyvjoVff/3VHHTooeZb597RIKwO8rxGOQmoIkxiEObTX2isQnf99ttvVbK6w/bbm8HXX1+rG7Rxn+1KGoRvvPGGWfj995bfaquuarbZZpsqLCu5IS6DSuaBaZNAdRFQPVijBiEKO/LOO81Nt9ySU+57R4826H6AwCCc/MQTZqAo0SVLlthtWTcIn3jySXNZv36WBf5d849/mH332Sdcr66FU047zbz51lvh5WgQhii4UEcIqCJMYhCiiPn0V3PpOv3sP/8xD44ZY8aMHZtD4+CDDjKX/fWvOdtq20qcZ7uSBuGRXbuaTz/91GJp3ry5uf+ee6odURwG1Z4pXpAEKkBA9WCNG4SPPPqoufraa3OK6BqEuqPf3/5mHp882a5m3SAceddd5qabb1Y0NWYQntm7t/n3K6+E+aBBGKLgQh0hoIowqUEYR3+dd8EFZsrUqSERdCU//+yztbqXI86z/fHHH+cM+WkhjfhNmjULy5l0YfHixabDvvuaX375xSZRUwZhHAZJy8jzSKA2EVA9WOMG4fgJE8xVV1+dwybKIHzn3XfNHSNHGijTf1x5pVlhhRVyzqnEChTSYvFKrtywYUnJo6vou+++s924yy+/fEnnwguKc+vXr29WWWUVU69evSrnn9qrl0GXikopHsI0eUNlQd6Qp1WlG+fsc84xL//735oNk9YgTJO3MBMJFn6WSTE//vijfUGjXGlk4cKFtm5i7FiUwOMdyI5VGzWK2l3ytgULFthnoqHU0VLG1aLM+EN5UdfiiNbN1Vdf3V4zzjn5jiklLTDVOpcvvaTbVREmNQjj6C94CdHD4codt91mtmrTxt2UdzkuqzTPT6WfbbdwxereK9LIPEMamyqlGoRJ60ulGaS5P8oiyS/qz/fS/f7777/b570UPeFfr7r1G97B0JkrrbSSgY7D+z+OFKtjUWnEfc6izo3a9r3kG+//YvZD0voadc2k21QP1hmD0C/oR9I6/cu55/qb7TrG6Vwhkx5uHTHCjH/ssZxjGsmLGN0PMKrQwsVDivEiaJVi8PckMVBxDlr+74oRiu0bb7SR2b9jR9Pz5JMjDTRc4Kt588x9MsD6mX/9y3zzzTd2DBEqwwYbbGAOPeQQ0+WII2yFzsnM0hU8rHhpPPHUU+azzz6z18QuVP4N1l/ftJEXx8UXXWTmS7r3P/igGTtuXE4yKJNrgPxz4EDTqlWr8Jg0ecND8tDDD5vHJk40H3z4YTguCg/nokWLbDn1QkkMwlLylvaeaz5h/D33/PNm6gsvmLdnzrT3S/c1adLE/PmAA8yZUj9cYxz35RQZMI/6AiUF5Qo2XY480px1xhl22MMLkt5/Pv/cngf+F4lnCC991K/bpTHz/JQpdlYmHroNmzY1F5x/vtll55310rF+58+fb+6QYRazZ8+2EwAw01tljTXWMBttuKG59JJLImd7wps77qGHrFcXdU4FDY/Wm21mjjj8cNNxv/10s/1FA2DE7beb115/3XbhoSwNxIBsKtfBOaedcoppKmVx5drrrjPPyjhfcAIvsALLyZMmmZnC+/4HHjAzZ82yBinq+Cgpj1tfkRaGReAZxHFIB4KxZO3atTMn9ugR25iyJxb4p4qwkgbhiy+9ZM7t2zcnF9fLM4oJJmlZlfL85GRAVpI+2/mehUOkK/zSPF3hcere3jLp5l9Sb24cPtx8+eWXYXZRd/Bcqqh+13X8Jq0vSRm41y60XMr9KZd+Q37eeecdy3KGNNg/Er39qzyHEDhSttxiC3PBeeeZzeT5Vcl3T6tbvyE/T8p7cNLjj1v99tVXX4VDxZD3pvI+3at9e3PWmWdq1sPfOHWsHPotLyt5x58h7w3UX+RFhzzss/fe5lrP6ZW0voaFLfOC6sFabxA+IAbQJOkqPkbGlBzwpz+FGPCi+pt4Cl948cVwmy7AGDzwz382aGn2+/vfwxc+PCGo4OecfbYd13OLGIywzlXWXXdd065tW1shdZv7i3F68Mb5gof+NDEWvpTKC4FhuZ6kNUte2goYL89bbropx3DDsXgxo2sCoQ4g8Nisu846BiEdXJksBtmgf/7TYCB7MbldyoWJJpA0ecP51w0YYI0ILEOQvxYypuctmdQCZepKqQZhqXlLe8+RX5QHY1LRgoSsv956pqF48xA+Q+8Vth/UqZO5/NJLsWgFrb1/Dh5sDWPdht8999jDPvifLB3v5O6DoT5UzukvL380LnyBMfSANCKabbyxvytyHd2Ol19xhQ33gwNQn9vI7FV4Cd3ro55t6w3Ch0EPT7zeMxhgX3zxhfWM6sUOP+wwa8Tq+rPSuLlGjDtwhyC/eIl8LHVTXzCYANZblDNCDqngpT7khhts+roNv6dIg+q2O+7I4Yztd4mxvMXmm2PRCgzQEeJBg+CaW0oZkdf//e9/dhsMBDzjMNzTiirCShqEUd3Ko2XYB1imYVXq8+OzSvps41kYKvf30fHjc5KEzsV98SVu3TtadPxRRx/tn15lfWdpRN0gz5VKmvqSlIFeu9BvqfcnrX5DXl599VX77On7BI235tKV/x8Zz+pO0ETjaviNN4ZGYW3Qb2g89pFG8owZM0KseI9uKI1PNNy1Ybi9OHxukry7EreOoZGuklS/5WMFY9MPxYRroeGHBqBKmvqqaZT7V/Wg+w6MukY9OQA9XHlFvSiVUKiYwXqCeAPwYMELc8Lxx+fkAy83v9sSL5D7xAO46Sab2GN7ycvq1ddes67bgfJy290J+zBajhvqVSycBMMTHpwJ8hKdJ9d2ZYRMgIHRqPKNeGxOk1YBHjjIRuJNvFNeaDCcMM4P4/1UDuvc2Vx84YW6alCxzhLjFK05CB7S2+VFCAMBxurt8vJUgUFYT8r2gxiQxxx3nPU66b5zpet2j91201WzvngV0ZpKkzckhsk+GDSvgpY5Kjbc92jFIfSMK6UYhEnzluaew1O12557hlnusNdetuWGOuM+pDgA9fpfYny7nldsP6lnT+u1wrIKulAPl3v7tXhwJ4oXzBcYhl2POsosEIPmoUceydmN7X3zeLpzDpSV4yWsx3tOqB81pMAEY2zR6oT4BiFa23+/6qrQGDxSWrLwEKAx1FmW9UXhGoRo3Bx97LGh4QyPMIxXKGg0BlDn4T2HgB/ygkaPyrTp0yM9+DBUv5PrwjuvouXA+t0yoezGYcN0lzlPPGtHSSMOntFj5fnXWe2o3+PEqw6DPo2oIqyE/tJ8wah+2Lnv8OQ+Jt5P7bpLwirp86N5KsezfbJ4h/GiVokyCEupe6iTn4uHHQb0KGcSCTzQQ6UxrAKP9pprrmlX09SXcjDQPPm/Se9PGv2GPLjvHBiDw+VZarv11ua///2vOU70B35Vusnz/Renax7ba1K/ocGL8bYqriEFvYf6hh4K3yAspY6pQZhWv+VjhXf4tttua/BMI68Qtxxp6qtNrEL/VA8WMfdMjRiE6GaF5wHKQaFGGYRggwp+rBhIbugauMThJZsgXb+YsIKX+99kVq7rYcS58Lb99bLLsBgKugq7n3CCXUcXKV7CeEhV/iRdx1eK11EFXUHoElJBhcOLFYKu407SXayCl+rjkic1MmBQwbBSQbfy+aIUIZiheITjdXlCDA0NLYMB125XYb4xhGnyBo9ZV1EYrtwlBuoWwhaCinOQlA2KT6UUgzBN3pLec98gVC8N8o/WeUfP43TbrbdaZarlw+/F0iX2jEwIUIHSHSVGvwbkBTM3WC+MpTuF2+atW9tTYEi97oz/9L0dmq7/i67ow8UwUkG6z8JglToFgcF01l/+YpaIkXaV1E/tDkJe0IDQOozzMCxCX6juZC10GV8oLXRIH6mHrvf92GOOsZ51u1P++RwQFuRW8UyqwOA7WuJSutLpwANNP3ne8EzDEEWeIWoQzpaGUY+TTgpPaSKe9gliHCDPEDzLMBZUesqxp8pLIo2oIqyUQQgdBM+sq2gRq88N4J6EVZrnp1zP9iXiQX9aYsKq+AZh0rqH2IaYwaySbwxhmvpSLgaaR/83zf1Jqt+QB9cgRNfqAGmMqAyQEG/ujPedd9rJ3CAfGHDFf66rS78hD64uwvoJorfcrmEMAUN9aysOGQyLgSStY2n1G65dhZWEm7LvAnFGYVjM9Uu92GoQpqmvuF4lRfWgq6eirlcjBmFURvIZhDgWY8H6Ln2R6bnoypsurme4oVGpULl8gcv4oqUVC/vw4nlSvCmrrbZaeKjfYsIsugfvv9/uhxF6oIybUU8JNo6TLm54CVX2l24U9Wpg28D+/U178VLBK3OAdEuqwYt9iE+22667YtEKFAO+AFJP1tANrRLHIEyTN1wHM7rxgKqgO32C4+XA9p6nnmq9RXpMXIMwbd5wvST3HJUd4y/xCw+TGu6a//323z+MfYZtGA+FcVGuXCZGPMZ6qmAMILqFVa4QYwwtVhUYgnc7XtbhYjTdeffdutu0bNnS3DtqVLiebwGTqrqfeGLO7u232852a8MjnE/866GLeaR4sFXQdf6DjKmEwPMCAxN1sr2Me1EjEvtQRne8Y1Q3KGbOotEDwfgZhA5xBdfF9SFff/116JncWDziuB9QoFCkKn+S+3GlUwfxMsNLTQUeSSjgNKKKsJwG4Y477GDZoUHpDkmBfjlTejqO9wzlUlmhZyGp3gGrcj3bCH2lXmmk6xuESeoe0olrEKapL+VigPz6UlP6DfnAMKVZMu4WAsNJG6JYx/ArDDtSidLpNaXfkCffSMOQGDRQMXxHG4Wad/1NUsfKod9wfZ8V3t14h0Ngd2CsIQS9hRgDm6a+2oQq+E/1YK00CNFqQZcvLGqMmcLkhUIGIThhcLbfHYftGDN4vjegG9shvkGIlxleaq5g3Nh9zksKL010JUJmvPyy6S1eGVcw1hEvN5UHpFvLNfrQLYIuO4z16OV91eMeMRT8wfWajvsbxyBMkzdcy48xhm4HeMxcQXd3klnGafOmeUhyz/Vc/xcGOjxp7hCBi6R7H13BrhR7CWI2KSYIqfjdG3fJPR7meNIwPGCMU7/0PP8XCubPYpy6BgaOwcQljF3B+Dy3IaLn+x5J32ugx7m/MGS6ecMzYHi5XcKYZHK6GDeu3COGbSsxcCFQhkdId7grD4lBh6EY+cRvYGCsqttAwrgoDNZWaSxdr084xrduL+VXFWE5DUL/+jDYwaWzBHKHt8CXUlmlfX7K9WwXexaS1D2wiWsQpqkv5WLg30usp70/mmY59RucFphQ5s52X2uttWyPlV4Pv8XuaaX0G66dbwgXdAZ67RC/0zcMk9Sxcui3KFYY04yeyHySpr7mS7Nc21UP1kqD0A07849rrrGDl/N5+RQIjEZ077qD62GYweOHMVxREscgRKibmz1DaIp4FjGODp4geIRKEf28EyY2wNh1BeOK1pEJJcUkjkGYJm+4PoxVGK0qUTOlkhqEafOmeUpyz/VctKTR9fueGBlQEK4XV49JYhDiG8/3LvUgIx14i4bJAHwVtysB2+IahDgWExDQTeF67rAdAsMQHk+MR3SV5uEy7EDHt+K4Qw4+OOxuwXqURA2leFReJq4n8oMPPjDdlg6t0DSuk2cVM0UhUUbOI+KdxXCQfIJuZEweiSsYCvKCzBaPGzYnKl1VhOU0COFZxksM+UKAajQiC0mprNI+P+V6tosZD0nqHjjFNQjT1JdyMYi6r2nvj6aZRr8hkgJ6MhCeDM8qPsfn9mThGkkMwkrqNzR6YeAhskCUQFdeJsMU4JxQSVLHyqHfcP1i9V/zqL9p6qumUalf1YO13iCEd+1HCa2xiswE1UHY+aBgzBPczq4UCoUQxyDEyx0PgQqUPAxCvIARnuYqb9bxcOflr+e4vwjXgYHwUV1ufneze567HMcgTJM3XAvjv9yB/zoOws1HUoMwbd7cPJR6zzEW7xJ5YessPKQFRYOuWwxqhlJSSWQQet939Q1Cv9umFIMQ+cIEKYylgxERJf7s6E5iALrjPP1u2Kg0ouomhgugi0klqpuzv+QLE3UgpRo5OOdg8ca6Hlq0uA+W7qJ8gklW6DZPI6oIy2kQug3aOHkrlVXa56dcz3axF2KSugdecQ3CNPWlXAyi7m/a++OmWap+w7lwYtwl3nqNpID3JiZzIaIFet1UEhmEFdZvmEmMCAWYhOUbsMg3nDuYNKc9EUnqWDn0G/JSrP7jGFfS1Fc3nUosqx6s9QahFh4v6pemTbOru+6ySxXjEJMs0LpwZ2Hque6LSrfhN45BiDAZGMyqgsH6mIwA8QOoYtsz0iqLE3QYU+t7y+xgVzCVHl2MxcQ3CBGo24+vlCZvuL5v7GFmNWZYu+IfE3cMYdq8aR5KveeYpHS6jCdVowMDpq8Wgx5jOiF+a7M2GoTIJzyE8EJA8cPA9WW8KFPMBob4M0HxYoBCLST+bD8c6xs5MKgRAcAVN9xRqUYO0vEDriMMSR/vGXGvV45lVYR1ySBM+/z4z23SZ7vYCzFJ3cM99Q1Cd9y2e8/T1JdyMXDzo8tp74+mU6p+w3nupBKsYyw9PpOIme1+r1RtNAiRZwgmVSLKBvLs94i4n35MUsfKod+Qx2L1H8e4kqa+uulUYln1YJ0xCF8U79+5S71/Y2XMFQaiq6AlgVldmESC7Q2lO9c1DBEW5D4JZ+FOzMC5vkGILuYXJXgwuqJU/HEc7sBpBE89VGZmuoJZXRin5QtAu+niRe7OGsXxePnhJVhM9pYxY+gSUMGMK3QFupImb0jHnxyB8ZXPSFgTd3ykP6M2rkGYNm/IX5J7fqUYf5j1qYIwRhibqoIZ4ZgZrlIJgzBplzHqDxQj6pB2CYMBlCYaLa64DQR/5h5mF8PbV6ibNWqMjU6G0uv4wZbhMUdoJDxrkCQGIeKKumF73MaXXld//edJt5f6q4qwLhmEaZ+fcj3bxV6ISeoe7p/fK4NhNBhO40ua+lIuBn6esJ72/iCNJPoN4dkOccY845mEztaoFogbiSFYKpUwCJPqN+QJ+g3PNfKtgq5uvNvRmFdxGwhJ6lg59BvyUqz+a371N0191TQq9at6EPwLScVnGUe5b31vBDLoTuNH6BZUZggKgBc9AlNirA5CfNQXww4xy9zQLAjvgVhWrlHmG4RIDyE5XMPR7/dHUGuE4ICgAh8m4540IDW2bSUBoeHpQ9gcFTyo6KZE8F0NK4MHHg+v252Hl/VDMiFBH2Ckjxc+XP4aCgdp+p4sN1wIyozz0+QN1/DjJWGbO0YMBjfGbLoS16OTNm9J7znicL3vxPHrLeMkdcYnvhJwjDf7U2PguWX0Q23sJyGArpYYfyqYxYduYRXfI+dPKsFYM0y2KCaIl4lB14jJ9qCE5XANOszmRReuijsjGLOqERjbFbfc2I6yw7OAyVfaLYzGiut99OMlYmIMyqICr/0QZwbjnLlzTdelz4kegy8EIYRIPvFfWDguyrv/oPC6S7z0w4RJ2m/nqiJMahBG6S83nFG+srrbS2WV9vkp17PtPwsI6/V3Z1x00rrne7LQAIJBCL2MsmMYEcZwp6kv5WLg3kddTnt/kuo3fAnpfCfOLd6HT4uHTQ0sRNTAO08FjbenJJqEK/49rS799pNEO9hbdCnK7js4MJMdxpcK3rF3LO21S1rH0uo35MVnle/DFZrvNPVV06jUr+pB8C8kFTcIoyZtuAYhYsehCwGfg1HR8BbIPF52mD0FgWsc7mQIxiAgIKwrfvyvKIMQBgI+P4OHyB8cDO/jbdJtCve7il9ZsR0zhQ8Vjx0eOBhO8Eohzh28bGNkTKJOHImqIBjLhrFTK4lBibQRBBjizvI8p0+fsPsc+5Du6aedZoNWj773XnO1eFoQgDtN3hA64WCZFenOkEZ5EPsN9wQBqxc6nz9DPuKMT8NxkKR5S3PPfYWI8XvnyCxxGOeDZHawa9gjj5i5e4oEonbFnynmzyL2lcQmMlseBpyKPygbxvuzMsxAvX56nP/rnufGysS4IMw+1vuEdKDkEeoAgqEWXeTrD+5kDTRWMMQA4+9gDCKcC8buuDOQ8bnCayVEkgrSwyfmMCkEXwxBg0u/HIJnZYQYlFDUKlEzLW+U8Uc77bijHlLlF/cBM73nijGpgvLgKygIV/M/+SILho3olwziNkA0rahfVYRJDcIo/eUa5FHX9LclYZX0+cG1y/Vs+8+CH9cuad3DhK8T5dlzBQ0OGCf4WABibeqwh6T1pVwM3Dy6y0nvTxr9FtWoRS8InmtMpHBDOiGv6O3BeHi318e/p9Wl39DjhZ4vCAx/NB41/Bve/Xc7obmOFX0GvQ1JWsfS6jdc22cVNfQCx6nUhH7Taxf7VT1YowYhDDIYdPpi0UzDwIFXDJnDwFjcdBW8IKZL9zE8IpgCj25iFbw48BktvPBgJOKzRL7A4IPxBA9LlEGI4zH+qpm8yF+TAfx6bXgkb5fZxv4sSeQRAabxwBUSnH+95EcDO+NYtCQRP9ENbO2nAYMBwa7doNooM77QEiUoV18xGBEuJU3ekLYf48m9HhjBm/TmW2+Fm3HPEGetq9yHYgZOkrylvee4325LM8y4LMDIby0xA9XYwD4ERoaXUGfO4qsz8KS5gnLim8TgDc8GumT0E0t6HL73e7IY0rhv/cSDgpeRK5gdjK7rfLPhcaxrEGId9bClfJIKL0/Eq1TBV2sQ+sgVXBezk91hBu5+LOOFi8+OafBzbPO71eDBxicRMTBdu9bxMgEjNzwPJiPhXHfiDtLbXDzkF0tddp8BbHcFQbsvvPjiyFnf7nG4HrgXq2fuOVHLqgiTGIT59Be6us+Q4NNuyJyoa2NbUlZJnh83D2mf7ShDGA0DfPnCHfaStO75Y8PcvKMeobcHz2ya+pKWgZsnfznJ/Umr3/As4tN/bqQNN18wqBGpAIaJyqEyTOZUafQiTl5N6jfXIETe8B5DHMXF4nxwP5OKz9jBO+g6ZZLWsaT6DfmLYoXtp0tsXvTmqVcW21xJU1/ddMq9rHoQ9baQVNRDeJR0KbnegEIZ0X14acKj4s/W1P0a2sLv6tX9+NWvfkQZhJhooN9pxcsGHjtMc0e3LOKi5ROEMEH3Lh5GNSJhIOGlvYOEHukhlSTfCx/xE9EdCC8OjEQIDEhcF917UbHbcA4+8aWfHdMH6HwxBv1uuTR5Q0w9BFLWr0rg0zx7yEBljHfEbDB3TJ6yeU5Y6Bc0dFu+31LyVo57jpYhPguI7/9C0K0CrxWMmgkyXMAPMQTDC3UKsru0tPXe2g1L/yEcC8Ky+F3Segzq0TQJng4PJRRylLhBm6P2o8GB8XVfyLhVjFHyjU540NCt6zYc3HQwbGGANL6gkLTO4AWC+olxsTjXHU6h5yKAL/KMwNg6GQd1bTPxguMbw5jV7H6HGOehvuBlGyVxvHowmIeINxGK3m0swrOOayGOJ7xR5RBVhEkMwkL6K27A8bSsSnl+fF5pnu1dpAdCdZWbLl6EqOuuJKl7OAeNK7eBBp2IeopGvfvCTVNf0jBwy5hvuZT7Uw79huflr9KwQ7gZGH54ptETgvHdeFb3kCgA6OFxBQ1B6ICa1G/o4cDQL7wDoeNQDtc4wbsTuq27eDx1WItbhiR1DOcn0W84Lx8r7MO4Te2hwbovaeqrn1a51lUPusyj0q6oQRh1werc5huE8Ew+J5/GmS8eFxhAeJB0PF/cfEFJfi6V+jep4M3kqyau4iqWBh4KGJSry5dStFu50Dm4Fl7SeMGjaxIv6kKSJm/g8a10eyOumnpl8MUEXHs5UToNxCu7ohjA8M6WUmbNb5q8aRql/KJ7GHG+cI+1PKWcX5PH4qGFwsS3k6F41pHWPRofcQXePRjEqDOlnIdzUAc0xl7c66U5DnUMA8rxEkAg6nKLKsIkBmG585ImvTTPT6WfbbdcpdY9jIlGHM3G4p2Gx76YJK0vlWaQ5v4UK3PUfjQYMSFjA2msFjJOos6tDduQf+joX+W3iTQE15DhSlEN1qi8llrHNI1lUb9p2Yr9qh6kQeh8ug4Gof+lkmIguZ8ESKDuElBFWNcNwrp7B5hzEiCBmiagejDTBqE/8BddaC9JcGIKCZBANgioIqRBmI37zVKSAAlUJaB6MNMGoR8CBJgmyjiyOF0TVZFyCwmQQF0joIqQBmFdu3PMLwmQQLkIqB7MrEEI7+CAQYPMwoULc5hicD4CEreWmYIUEiCBZZuAKkIahMv2fWbpSIAE8hNQPZhZgxBfIJk2fXokIcSew4wsCgmQwLJNQBUhDcJl+z6zdCRAAvkJqB7MrEGYHw33kAAJZIWAKkIahFm54ywnCZCAT0D1IA1CnwzXSYAEMkNAFSENwszcchaUBEjAI6B6kAahB4arJEAC2SGgipAGYXbuOUtKAiSQS0D1IA3CXC5cIwESyBABVYQ0CDN001lUEiCBHAKqB2kQ5mDhCgmQQJYIqCKkQZilu86ykgAJuARUD9IgdKlwmQRIIFMEVBHSIMzUbWdhSYAEHAKqB2kQOlC4SAIkkC0CqghpEGbrvrO0JEACfxBQPUiD8A8mXCIBEsgYAVWENAgzduNZXBIggZCA6kEahCESLpAACWSNgCpCGoRZu/MsLwmQgBJQPUiDUInwlwRIIHMEVBHSIMzcrWeBSYAElhJQPUiDkFWCBEggswRUEdIgzGwVYMFJIPMEVA/SIMx8VSAAEsguAVWENAizWwdYchLIOgHVgzQIs14TWH4SyDABVYQ0CDNcCVh0Esg4AdWDNAgzXhFYfBLIMgFVhDQIs1wLWHYSyDYB1YM0CLNdD1h6Esg0AVWENAgzXQ1YeBLINAHVgzQIM10NWHgSyDYBVYQ0CLNdD1h6EsgyAdWDNAizXAtYdhLIOAFVhDQIM14RWHwSyDAB1YM0CDNcCVh0Esg6AVWENAizXhNYfhLILgHVgzQIs1sHWHISyDwBVYQ0CDNfFQiABDJLQPUgDcLMVgEWnARIQBUhDULWBRIggawSUD1IgzCrNYDlJgESMKoIaRCyMpAACWSVgOpBGoRZrQEsNwmQAA1C1gESIIHME6BBmPkqQAAkQAKqCOkhZF0gARLIKgHVg/QQZrUGsNwkQAL0ELIOkAAJZJ4ADcLMVwECIAESUEVIDyHrAgmQQFYJqB6khzCrNYDlJgESoIeQdYAESCDzBGgQZr4KEAAJkIAqQnoIWRdIgASySkD1ID2EWa0BLDcJkAA9hKwDJEACmSdAgzDzVYAASIAEVBHSQ8i6QAIkkFUCqgfpIcxqDWC5SYAE6CFkHSABEsg8ARqEma8CBEACJKCKkB5C1gUSIIGsElA9SA9hVmsAy00CJEAPIesACZBA5gmU3SDMPFECIAESIAESIAESIIE6SqBsHsI6Wn5mmwRIgARIgARIgAQyT6BsBmGxhDJPmgBIgARqHYF69erZPFF/1bpbwwyRAAlUE4G4erCeKMqgUJ7iJlQoDe4jARIggZogQP1VE9R5TRIggdpEIK4epEFYm+4a80ICJFBWAnEVYVkvysRIgARIoBYRiKsHaRDWopvGrJAACZSXQFxFWN6rMjUSIAESqD0E4upBGoS1554xJyRAAmUmEFcRlvmyTI4ESIAEag2BuHqQBmGtuWXMCAmQQLkJxFWE5b4u0yMBEiCB2kIgrh6sEwbhTz/9ZN577z3LtlWrVqZRo0a1hTPzQQIkUIsJxFWElSrCkiVLzKeffmq+/PJLA9219tprl+1S8+fPNx999JFp06YNdWLZqDIhElj2CMTVg9VmEGIy83777Wfmzp0bSfvhhx82bdu2zdn39ttvm969e5spU6aYBg0aGBRq0aJFpn379mbw4MFm2223zTmeKyRAAiTgEoirCN1zopaT6K/777/fXHDBBeazzz4Lk2zdurUZNWqU2XHHHcNtpS7ccsstZsiQIeadd96xpy6//PJmhx12MLfffrs1DktNj8eTAAks2wRi60GEnSkkgglhaQodEmvf2LFjbTqanvu75ZZbBtKSzkln2rRpQf369YM11lgjGDNmTLB48WL7h3RWXXXVQAzEYPr06TnncIUESIAEXAKqZ9xtSZZL1V8jRozIq++g115++eUk2Qguvvhim27Hjh0D6TUJ5s2bF/Tq1ctuk56TYNKkSYnS5UkkQALLLoG4erBaPISC2XrzPv/8c9O8eXPJW6707dvXHHXUUTkb0b3y4YcfmtGjR5tu3brl7Bs4cKA5//zzbWt45syZOfu4QgIkQAJKIHbLWE+I+C1Vf3388cdm8803NwcddJA5++yzzS677GJeffVVc+qpp5rZs2fbKxx44IFm4sSJEVfLv+mOO+4wJ598smnWrJl5//33ba8Jjkb+4CF87bXXzHrrrWf3SaM5f0LcQwIkkCkCsfVgMZtYqNnWZ7HjCu1/5JFHbBrjxo0rdFi4T5SdPR7Xfvfdd8PtujBjxoxwv4yj0c38JQESIIEcAjWhv3r06BF07tw5+P3333PyIg3cYKWVVrK6a4MNNsjZV2zll19+CcQQtOf279+/yuFPP/10qBMvuuiiKvu5gQRIILsE4urBavEQbr/99nbsH7x5aqlKBvOKdBeb3Xbbze6/9dZbzSmnnJJzrHTfmC5dutiB1F9//bVp2LBhzn6ukAAJkAAIqL6RV0FiIKXqry+++MKstdZaZsUVV6xyzV133dXIUBfbYwKPXlwRg89IN7E9fPz48ebggw+ucmrLli3tJBMxOs33339vVlhhhSrHcAMJkED2CMTWg8VsZkFnW57Fjsu3f8KECWHLtUOHDgFatzIYOt/hdjtaw6ussoo9b8011ww++eSTnON79uxp90lXcs52rpAACZCAS6Am9Jd7fX9ZjDaru6Sh6+8quH7jjTeGevTJJ5+MPFa6qMNjiunYyAS4kQRIYJkkEFcPFp0tEjehfBRlNl2opDQtsVaDPn36BDJjON9ptstFj2/RokUgY2/ssTAwcb60wINZs2blPZ87SIAESEB1SFISSfVX1PVkbKHVhbvvvntB3Rd1rsxWDvWojCWMOiSQsdjhMRK1IfIYbiQBEsgegbh6sKIGoYRbCPbdd98As4h17IxmDL8SZiaYM2dO5N2RbpdwzAyOXW211YJLLrkkkG6YAK3sN954I/I8biQBEiABJaD6RtdL+U2jv/zrQJ/JRJOgadOmwbfffuvvLrouYbZCY+/CCy+MPB7btbzXX3995DHcSAIkkD0CqheKlbyiBqF7cQkuHTz++OPBPvvsEyotZBKtZYSUiRJ4BZs0aZJz/CabbBLI+Jiow7mNBEiABHIIxFWEOSdFrCTRX0hGAlIHMM6gtzQvhxxySLBgwYKIq+TfNHny5PD8ddZZJ0B+fDnxxBPDYyTWob+b6yRAAhkloLqnWPGrzSB0M3LPPffYGIOayRtuuMHdnbMMI1KP09/jjz8++O2333KO4woJkAAJ+ARUZ/jb06yXor8kGL+Nmar50F90RWOsdFz5+eefAwnZFerCfv365Zwqk+uCbbbZJtw/derUnP1cIQESyC4B1TvFCFTLLGPJTBWREDTmyCOPtNv3339/88QTT1Q55qmnnrLxCVdffXUbewtfLFHBuffddx9n0ikQ/pIACVQhEHt2XZUzC2+Io780BTH87MxiCQdjf3W7BK82MkFOV4v+SuPYzi6WHhV77DHHHGOkh8VIaC4zcuRI8+OPP4ZpYKbz+uuvH65zgQRIILsEYuvBYhajILStzmLHJdkvoRNs2ugW9uWll14KJJyM/SoJJo/AIyiBXcMWMPJ11lln+adxnQRIgARCAjWlv8IMOAv4GpNGSEC+0HVcqsDzpzOVtWzyCc9APvEZ6sY999yz1GR5PAmQwDJMQHVFsSLWmIdQMmgee+wx2+JFHEG0btWKFePP4JufMuHEXHvttUYGS+NwKzKxxFxzzTV2Gd/wROT/zTbbbOle/pAACZDAHwRUp4gi/GNjmZby6a9Cyf/www/Wc4dffLv9zTffLHR43n3wAH766af2iyjyeU9z+umnG3zjGHLvvfcaeA8pJEACJAACcfVgjRqEMObatGljpEVr3O5gVbQoCIJU49NPrnTv3t3cfffddtOwYcPMGWec4e7mMgmQAAlYAnEVYRJc+fRXsbRkXKF55plnbKBpiSlY7PCi++fOnWu22GILG/xfJq8Y+cZx+Fm7oifzABIggWWeQGw9WMyFKKRsV0Sx45Lsx4fYkb58lzjn9EGDBoXdHxhM7Qs+V7fccstFnusfy3USIIHsEqgJ/VWMtnx5yequc845p9ihsfbLeGqbXv369QP5Ckqsc3gQCZBAdgjE1YM16iGUMTTm2WefNa+//rpp1aqV5Pn/xR2wLV8pMRtvvLHuCn/btWtn3nrrLYMPvku4hXA7F0iABEhACcRuGesJJfzm01/FksCn8KDzXnzxRYNP2aWRm2++2fTq1csmMWDAAHPeeeelSY7nkgAJLIMEYuvBYjaysLGtz2LHRe0fPXp00L59++CKK64IZIxgeAg++n755ZfbdKM+4fTNN98EMrPY7vfDKyCR7777LmjcuLGddILgsRQSIAESiCJQE/prxowZwdChQyM/0SlDXKxe69GjR1R2g1deeSXYeuutbdD+V199NfIY3Yivkcj3im1vCT4JSiEBEiCBKAJx9WBF4xDutddeVvkhM/g2cdeuXYNzzz03wKy4Bg0aBNddd11U3u22u+66yyo6fOEEyyrz5s0LOnXqZNO97bbbdDN/SYAESKAKgbiKsMqJsiGJ/kJjt1GjRlY/Sas8OOywwwIYbhMnTgzQVYxtiJYgk0qiLhm4waWxHCX4tjs+/Ym08AUnGXMddRi3kQAJkIAlEFcPVtQgfPrpp0NPn2ZovfXWCzDmRbpMit4qmWgShljAefjUHQxE6V4OELmfQgIkQAKFCKjeKXRMvn1J9ddxxx0XNoT1+vjkJgJHP/roo/kuZ7cPHz48PBfLKmgIw0DcdNNN7X70kFx22WUBelMoJEACJFCIgOqhQsdgX8XHEC5atMhITEEjn5szW221lWnRooXkrTT56quvzMyZM2G82jALG264YTiNurSUeDQJkECWCMQeO5MHSlL99cEHH9iwMAinhfHR+JPu3TxXyd2MyAoQd3zhwoULDcZWS8xWm5Z8tcTIJJLcE7lGAiRAAhEE4urBihuEEXnjJhIgARKoFgJxFWG1ZIYXIQESIIEaIBBXD9IgrIGbw0uSAAlUD4G4irB6csOrkAAJkED1E4irB2kQVv+94RVJgASqiUBcRVhN2eFlSIAESKDaCcTVgzQIq/3W8IIkQALVRSCuIqyu/PA6JEACJFDdBOLqQRqE1X1neD0SIIFqIxBXEVZbhnghEiABEqhmAnH1YGyDsJrzz8uRAAmQAAmQAAmQAAmUiQAitRQSGoSF6HAfCZAACZAACZAACSwDBMpmEBZLaBlgxSKQAAksYwTidpUsY8VmcUiABEggJBBXD8b2ENIgDNlygQRIoI4QiKsI60hxmE0SIAESKJlAXD1Ig7BktDyBBEigrhCIqwjrSnmYTxIgARIolUBcPUiDsFSyPJ4ESKDOEIirCOtMgZhREiABEiiRQFw9SIOwRLA8nARIoO4QiKsI606JmFMSIAESKI1AXD1Ig7A0rjyaBEigDhGIqwjrUJGYVRIgARIoiUBcPVgnDMLFixebmTNnmpVXXtm0atWqJBA8mARIILsE4irCOIR++ukn895779lDoYcaNWoU57SKHPPzzz+bd955xzRo0MC0bt3a1K9fP/Z1alM5YmeaB5IACSQmEFcPVtwgHDRokBk+fHjRgqyzzjpm2rRpOcd9+eWX5rTTTjPPP/+8Wbhwod231lprmTPPPNP069fPLLfccjnHc4UESIAEXAJxFaF7jr/89ttvm969e5spU6ZYAwxpLlq0yLRv394MHjzYbLvttv4p4TqiM+y3335m7ty54TZ34eGHHzZt27Z1NxVc/uyzz6z+mzhxolmyZIk9Fsbg4YcfboYMGWLWXXfdvOenKUfeRLmDBEig1hOIrQdFYRUUKSlCWxc8Jt/O33//Pdhoo43s+ZpOvt+99947J5l333032GSTTYKGDRsGI0eODBYsWBA89dRTwYYbbmjTO+CAA4Jffvkl5xyukAAJkIBLQPWNu62UZWmkBmJwBWussUYwZsyYQHor7N/YsWODVVddNRAPXTB9+vS8SeI4zYP/u+WWWwZi1OU9198hxmCw5ppr5k1PGsvBnDlz/NPsetpyRCbKjSRAAnWCgOqeYpktaunFTSjqQuPHj7fKCwp15513Djp16hQceuihOX8w+HCNm266KUzi119/DZo3b26333LLLeF2LDz66KOhQhwwYEDOPq6QAAmQgEsgjf5COi1btrT6ZvTo0W6ydhn6B+m3adOmyj5sgLHXrl27YO211w522mmnKn8PPPBA5Hn5Nnbs2DGQln6wyy67BAMHDgwmTZoU9O3bN1h++eVDnbjbbrtFnp6mHJEJciMJkECdIRBXD1bUIDzwwAODpk2bBh999FEkOHj40PKGQvv666/DY2AEogDYB+PQlz322MPuX2211YJ58+b5u7lOAiRAApZAXEUYhev9998PDS30WPgyY8aMcP/8+fP93cEjjzxi948bN67KvlI3SJezTeu8886rcupjjz0W5gPl9fVt2nJUuSA3kAAJ1CkCcfVgxQzCb7/91hqDMvA5LzgZB2MV2b777ptzzO677263b7fddjnbdWXUqFGhArzyyit1M39JgARIIIdAXEWYc9LSlZdeeinUM7feemuVQ9CFjPRlckkgEzWq7If+KrVbuEoiSzeMGDHCeiJl7GLkIV26dAnzim5qV9KWw02LyyRAAnWPQFw9WDGDMA6yHj16WCXmdwujiwUFyNf98corr4TKr2vXrnEuxWNIgAQySCCuIoxCgx6MVVZZxeoajN375JNPcg7r2bOn3detW7ec7ViZMGFCqKM6dOgQ9O/fPyjUOK6SgLfhww8/DD7++GNv6x+rw4YNC683derUP3bIUppy5CTEFRIggTpJIK4erDGDEF3BjRs3DlZYYYXgm2++CSGjpa2Z33jjjcPt7sL3338fHoMxOhQSIAESiCKguiRqX5xtnTt3DnVNixYtgtmzZ9vTYPBhPB8mcsyaNatKUjvuuGN4nuYBx/fp0yfI5+WrkkgJG4YOHWqvh0kuUeknLUcJWeChJEACtZSA6qBi2asxg/Dxxx+3CgwDpX3B2EEUAGMLYfz5IjG4QmWLcYQUEiABEogiEFcRRp2LbV988UXQrFmzHH1zySWXBCuuuKKdcPLGG29UORWzgTEMBt3FK620Uniu5kXCzOSdDVwlsZgbunfvbq+z5557Rp6RpByRCXEjCZBAnSOguqdYxmvMIDzppJOsAsPYGF8wi04LgNl0vqDrRvej1U4hARIggSgCqiei9sXdBq9gkyZNQp2DNBESK6qx6qeJHg80fvfZZ5+c8zFOGiFsyiHoEtbwXpMnT86bZJpy5E2UO0iABGo9gbh68P8AAAD//9e+xjIAACiXSURBVO2dB7QVxf3HR3p5iAg8utQXEB5IkSjSpQpSNAgmgIEgqDliKBKOSQQ8USOKGuVQQksQECTgkwMIoRggFOmh80DpVUTKo7f5z2/Ofza3bJnd++69b+/97jmwuzPzm/K58D2/3Zn5LeMOB2OM05/sPG7dusUffPBBnidPHv7jjz+GVT1p0iTZJrVbtmxZfvLkyaAygfmtWrUKysMNCIAACCgC2aVfS5YsMTRJ1dm7d29++/Zt1ZTjedasWTxv3rxGPWPHjnW00Snw4Ycfyjo7derkWDw7xuHYCAqAAAjkKAJKs5w6dR8VEIUtj/vuu0/mORSztDfL+Ne//sXat2/P2rVrx5YuXRpW5N69e6xZs2Zs3bp1Mq9ChQrs5ZdfZrly5WKLFy9ma9euNWxeeuklNnHiROMeFyAAAiCgCGSHfi1fvpx1796dFS1alFWsWJGtWbNGVc+6devGZs+ezcTDrZFmdzF//nxpQ2Xatm3LSAsjOS5cuMCqVq3K8ufPz7Zs2cLKlStnWV12jsOyEWSAAAjkOALaOujkMYqRyadPp3Ju8vv16yfrnDp1qqXZ9evX+SuvvMLz5csny1I/ChcuzAcOHMjT0tKMtJUrV1rWgQwQAIHkJhCpfq1fv54XLFiQFylShO/Zs0e+ERwwYIChP1T/q6++6goyvckju5IlS7qyCy189+5dTnWRRlI/7Y5ojMOuPeSBAAjkHAK6Oug4F6xbke7QaYqlePHicurk/PnzjmY3b97kW7du5fv37+ckgDR9LN4USkGtXr26oz0KgAAIJC+BSPSLlrZUrlxZas17770XBPGNN94wnMLcuXPzzMzMoHy7m4ULF0pbcjTFbIhdUdu8119/Xdbzj3/8w7ZctMZh2ygyQQAEcgwBXR2MuUMopkikiD311FOeYImpY0OI//a3v3mqA0YgAALJQUBXCM1oKMeN6tiwYUNYkRdeeMHQonHjxoXlWyXQm0aqs2nTplZFHNNpdoXq+OCDDxzLRmscjg2jAAiAQI4goKuDMXcI+/fvL4Xs73//u2tQO3bs4PQ0ToPr3Lmza3sYgAAIJBcBXSE0o6I2a1AdtIQl9KANcWq2YtiwYaHZlvdff/211DA3NoGVZWRkyBkWekupc0RrHDptowwIgED8CejqYEwdQpouLlGihBQzsRjaFSUqX6NGDSmkYpMJ15ludtUACoMACCQcAV0hNBv4vHnzpN5QHUePHjUrwuvUqSPLTJs2zTTfLJHW/dF66AMHDphl26bNnTtXRmeg9dVmB01B9+rVi8+YMcPIjtY4jAZwAQIgkKMJ6OpgTB1CsctNimeHDh1cwbt8+TJv2bKltK1duzY/fPiwK3sUBgEQSE4CukJoRufcuXNc7CyWujNy5MiwIpcuXeLFihWTm06OHz9u5M+cOZOLKAl81KhR/OrVq0b6nTt3+IgRI2R9FDrL7BA7hTlpHDmatHY68KB6aYYkJSWFT548mU+ZMsX4M2HCBP7222/zevXqcbGjMMiB9TqOwLZxDQIg4F8CujoYU4dQ7c5zWgStsN+4cYOLsDRchFWQItqlSxeelZWlsnEGARAAAVsCukJoVcn06dPltHCBAgU4Xavj7NmzvGPHjlKXyDELPJo3by7TqW16E9ijRw8+ePBg6azRjuDRo0cHFg+67tu3r2FL1+qgN5BqelqNyercokULZWacvYzDMMYFCICArwkorXAaRMwcQno6pjALJIgXL1607ddnn30m3wiSCNNA6O3gsmXLbG2QCQIgAAKhBHSFMNQu8F7EHeTVqlWTWlS6dGn59o60icJf0QNr6LFixQrjzaJqn+xEzEK+ffv20OJB9+PHjzccQrqm48qVK9rOILVnFc7L7TiCOoYbEAAB3xJQOuQ0gJgFphbrB5mY8mAi5AwTG0JE/6yP1atXsxMnTrAqVaowIbpMrDu0LowcEAABELAgoB2Q1cI+MPnMmTNs9+7d9BDNxHpmVr58eabqDyxH12J2g4nYf0zMaLD09HQZPDq0jNW92NEssxo1amRVJKJ0N+OIqCEYgwAI5AgCSqdIu+yOmDmEdp1AHgiAAAhEg4CuEEajbdQJAiAAAjmBgK4OwiHMCb8W+gACIBAVArpCGJXGUSkIgAAI5AACujoIhzAH/FjoAgiAQHQI6AphdFpHrSAAAiAQfwK6OgiHMP6/FXoAAiAQJQK6Qhil5lEtCIAACMSdgK4OwiGM+0+FDoAACESLgK4QRqt91AsCIAAC8Sagq4PaDmG8B4T2QQAEQAAEQAAEQAAEvBHItl3G3pqHFQiAAAiAAAiAAAiAQLwJZJtD6FRRvAeK9kEABEAglIDuVEmoHe5BAARAIFEI6Oqg9pQxHMJE+aeBcYBA8hDQFcLkIYKRggAIJBsBXR2EQ5hs/zIwXhBIIgK6QphESDBUEACBJCOgq4NwCJPsHwaGCwLJREBXCJOJCcYKAiCQXAR0dRAOYXL9u8BoQSCpCOgKYVJBwWBBAASSioCuDsIhTKp/FhgsCCQXAV0hTC4qGC0IgEAyEdDVQV84hLdu3WKZmZksd+7crGbNmsn0O2KsIAACERDQFcIImnA0vXbtmtQvKpiWlsZSUlIcbaJZ4Pjx4+zEiROsatWqLDU1NZpNoW4QAIEcQEBXB2PmENIu5datW7MjR46Y4snIyGB16tQJy5swYQIbMWIE+/HHH2VemTJl2NChQ+WfsMJIAAEQAIEAArpCGGBieulFv3bt2sUGDhzI1qxZw/Lly8eoLzdu3GDNmjVjf/3rX1m9evVM29JJJL18/fXXTYu2bNmSTZkyJSxv2rRp7I033mA//PCDkVehQgX2/vvvs+eff95IwwUIgEBiEdDWQSF0tofAwulPpMe8efNkPaq+wLN468fv3bsX1sQf//hHaZOens537tzJt2/fztu0aSPTfve735nahFWCBBAAgaQloHQmUgBu9WvDhg08b968/IEHHuD//Oc/+d27d+UfqqdIkSJcOIj822+/9dQt0sratWtb6umcOXPC6h02bJhleWI0ZMiQMBskgAAIJAYBXR2MyRtCgVQ+DZ88eZJVqVJF9C34oDd+3bt3D0qcP38+69atm5wm/u9//8uEUyjzL168yCpVqsQuXbrE5s6dy5577rkgO9yAAAiAgCKg/WSsDEzOXvSLpoa/++47NnPmTNazZ8+gWseMGcOEg8Zq1arFdu/eHZSnc0NvB5999llWt25d+eYx0ObBBx9kixYtkrqp0teuXcuaN2/OihUrxrp06cI6derEsrKy5JvBwPaXLl3K2rVrp8xwBgEQSBAC2jro5P8KHvLJ0qmcXf5XX30l6xBOnl0xI+/mzZtcrG+RNkL4jHR18eqrr8o8enNo9mZRlcMZBEAguQnEQ78OHDgg9Yna3r9/f9gPsHHjRiNfLIUJy3dKEI4gF8trtLWvT58+8k2lWDsYVPX169e5mL42+tK7d++gfNyAAAgkBgFdHXScC9atyA5b/fr1udW0sJkdOY6q3bFjx4YVCcwXbwnD8pEAAiAAAkRA6UgkNNzq1/r16412J02aFNY0TSFTv8TmEi42nITl2yUsWLBA2n7xxRd2xYLyypUrx2fMmBGUpm727Nlj9JUesHGAAAgkHgFdHYy6Q7hw4UJDcFq0aMHFAma+b98+W+IvvviiYUNP06HHsWPHjPyuXbuGZuMeBEAABCQBXSG0wuVFv2iGo3DhwlKjxBQuP3r0aFD1St/EVHJQus7No48+KusVm+t4//79uZg+dnQqly9fblt1yZIlZZ2tWrWyLYdMEAABfxLQ1cGoO4QNGzY0nDfVKTGfLRcxix13pnTFGkHD5vDhw6ZlaME21ffII4+Y5iMRBEAABJTmeCXhRb+oLXpQVW3T8pe9e/fKLpCDSfpXvHhxTm/n3ByLFy826lR107latWqeN6hQ+9QXqmfkyJFuuoOyIAACPiGg9MKpu1F1CGnNCj110nRxgQIFwsSM1sGEOny0JjBPnjxG2cuXL5uOQYnY/fffb5qPRBAAARDQFUIzUl70S9Vz6tQpXrFiRUPHSKf+8Ic/8Pz580sHTmyUU0W1z++99x5/7LHHeNmyZY161fhIM0ePHq1dlypI+qvqWLlypUrGGQRAIIEIqP/jTkOKqkMY2DitlVmyZAl/8sknDQGiTjZu3FiGY1Blf/rpJyOf3gJaHZUrVzbKnT9/3qoY0kEABJKYgK4QOiHS1a/AeuitoJqOVf2g2Q+xwzewmKfrgwcP8nfeeYeTo6nqprPYKeyqvvHjx0v7Ro0aaW9ScdUACoMACMSdgNIIp47EzCEM7MisWbNkjC7VycCNI/RUrtJJTK2OwKdvs518VnZIBwEQSB4CSkuyc8R2+hXaDj0Eqz6oM+3mvX37dmhRT/ciyDSntdmq7vLly3PaPaxzXLlyhZcuXVpOYW/evFnHBGVAAAR8SEDpg1PX4+IQUqcCA722bdvW6Oe5c+cMcbNzCEuUKGGUO3PmjGGPCxAAARBQBHSFUJXXPVvpV6D9smXLZLgXengNDO9CfRIxVrPNKbx69aqcSlZjpV3OOgetGSSbN998U6c4yoAACPiUgNIGp+7HzSGkjokAqVKQQh0/td6QzlZHoUKFpC0t0M6up22rtpAOAiDgTwK6QuhldFb6RXWRU1awYEH5VRLaPEIaNWDAAOMhlvpF8VSz69iyZYt800f1jhs3zrFaEaxarmfs3LkzpoodaaEACPibgK4OxuRLJaIzpgdF1Keo+UI4mXjKld/6pIL00fVDhw5JGzH9wYRjGGR/69YtmSZ+Ivlx9rNnzwbl4wYEQAAEiIB2hH4PuKz0Szh/rHr16kxs2GBiIwgbPny4UbvYWML+8pe/yPvcuXMzsc6Q/exnPzPyI7kQIWnY1q1bw9oMrZP6JTanMPouPH3FRHxKL7QI7kEABBKIgLYOOvm9gol8qnUq5yVfBUVt2rRpkHlgyAZaPB160HeNVb/EJ+9Cs3EPAiAAApKA0olo4LDSr8DYhfRN49DjhRdeMPRL521eqL3VvfiMp6zXbrew+OQnF5/Mk1+COn36tFVVSAcBEEggAro6GNcp46+//loKGH14PfCgYKtqAFOmTAnMktf08XaVP3Xq1LB8JIAACIAAEVA6EQ0aVvr14YcfGu2abfCgz9XlypVLlgnVvkj6+fOf/1zWaxWqizaR0AYUClsjZmAiaQq2IAACPiKgq4NxdQhpDQ5F9KdvfwYetN6mVKlSUjDNovm/9tprMo9iEV68eDHQFNcgAAIgYBDQFULDwMWFlX4FbjgJ/UqJqp5isFLfpk2bppIiOtMXncQUtPx6iVlF5CQ2adKE02a83bt3mxWRwa0pEDcOEACBxCKgq4NRdQhnzpwpd9eNGjWK0044ddy5c4ePGDFCCqLZtz6pHKXTICjO1smTJ5UppykPtcP4448/NtJxAQIgAAKhBHSFMNSO7r3qF0VKKFq0qNQv2skbepCGFStWTG46oTBbgQdtDqlduzYnh1GsBzSyLly4IHcmP/300zx0GpriHdLXStLS0ji9BQw9yJYCWhOLgQMHcpp1UX9IZz/55BNOn9Ojh/N+/fqFmuMeBEDA5wR0dTCqDmHz5s2lCFFnSGx69OjBBw8ezOvVq8fz5cvnGFl/0KBB0r59+/bSKaQ1O23atJFpv/zlLzk5ljhAAARAwIqArhCa2UeiX9OnT5fTtxQpga7VITbA8Y4dO0oNM1sO07dvX0Mz6Vodq1evNtJpTOQ0kpbSekRqg75xbLbemoL2N2jQIMhWMTE7r1q1SjWJMwiAQIIQUP/XnYYTVYdwxYoVxpOy6hAFQqUYXNu3b3fqm/yCCYleamqqIWgpKSmcnrrhDDriQwEQSHoCSne8gIhUv9asWSPf3FEfSPforR85b/Qmz+qLIurLIWRD14EHbaBT46Ezfa6OpnjfffddLiIvBBY1rsUO5yCbQPvQa4qXSJ8OxQECIJBYBNT/dadRRT3szI0bN5iIycXE55pYenq6DCkjOufqECIl67h79y4TbxeZmEZ2ZY/CIAACyUlAO9yCBZ7s0C8ROJ+JdXv08M1q1KjBxNdEjHA4Zs2KKWGZLD4nF5Yt1luzzMxMGSpGbCJhIh5rWBkkgAAIgEAgAV0djLpDGNgpXIMACIBALAnoCmEs+4S2QAAEQCCWBHR1EA5hLH8VtAUCIBBTArpCGNNOoTEQAAEQiCEBXR2EQxjDHwVNgQAIxJaArhDGtldoDQRAAARiR0BXB+EQxu43QUsgAAIxJqArhDHuFpoDARAAgZgR0NVBOIQx+0nQEAiAQKwJ6AphrPuF9kAABEAgVgR0dVDbIYxVx9EOCIAACIAACIAACIBA9hKgSAd2BxxCOzrIAwEQAAEQAAEQAIEEIJBtDqFTRQnACkMAARBIMAK6UyUJNmwMBwRAAAQMAro6qP2GEA6hwRYXIAACPiGgK4Q+GQ66CQIgAAKuCejqIBxC12hhAAIg4BcCukLol/GgnyAAAiDgloCuDsIhdEsW5UEABHxDQFcIfTMgdBQEQAAEXBLQ1UE4hC7BojgIgIB/COgKoX9GhJ6CAAiAgDsCujoIh9AdV5QGARDwEQFdIfTRkNBVEAABEHBFQFcH4+4QXr16le3Zs4cVKVKEPfzww9qD9Gqn3QAKggAI+J6ArhB6HaiODh0/fpydOHGCVa1alaWmpnptKsguKyuLHThwgOXPn5/VqFGD5cmTJyjf6ubevXvs2LFj7PTp0ywtLY2VKFHCqijSQQAEEoSAtg6K3cO2h+BBkQxty7jN3LVrF//1r3/Nq1evznPlysUfeugh/s477zhW49XOsWIUAAEQSEgC8dSvqVOncuEASv1U/ahQoQKfPXu2Z9bCkeM9e/bkQuCNeoVTyAcNGsRv3bplWy+1S+2rvtCZNHjTpk22dsgEARDwNwH1f95pFI6enm5FTg1R/s2bN/lvf/tbKWa5c+fmb775Jj9y5IijqVc7x4pRAARAIKEJxEu/hg0bFuR4qX6o85AhQ1xzv3DhAk9PT7est2vXrpZ1Tp482dIub968cAotySEDBPxPQOmO00hi5hCeO3eOP/HEE1KUypcvz9esWePUN5nv1U6rchQCARBIaAK6QugEwY0O/ec//5EzH8WLF+e/+c1veEZGBv/ss8/CnLmlS5c6NRuU369fP160aFE+ceJELqag+fnz5/mf/vSnoLeFZm/7vv/+e05O3zPPPMP//e9/8+vXr/O1a9fymjVrGk5ihw4dgtrCDQiAQOIQ0NXBmDiE165d44899pgUn5SUFJ6ZmalF2qudVuUoBAIgkPAEdIXQDoRbHerTpw9/4IEHuFg7GFQtOWLNmjUznLDevXsH5dvdkFMn1llzcjZDjxdffNGoc9KkSaHZnPpDbw/v3LkTlPfdd9/xAgUKSNuyZcsG5eEGBEAgcQjo6mBMHMJu3boZgvX5559rU/Zqp90ACoIACCQ0AV0htIPgVofKlSvHZ8yYYVql2EBnaCFN/+oed+/e5UePHjUtTm8a1TgXLFgQVubkyZP8xo0bYemU8Pjjj0vbevXqmeYjEQRAwP8ElD44jSTqDuHixYsNsXruueec+mPke7UzKsAFCIBA0hPQFUIrUF50aPny5VbVyfSSJUtKTWzVqpVtOd3MmTNnyvpoc97t27d1zWS5atWqSVuzN4uuKkJhEACBHEtAVwejGnZG0GFinQrbv3+/6A9j33zzDWvZsqW8Fk+8TGwskdehf3m1C60H9yAAAslNQDvcggmmaOkQhXoR6//YyJEj2ahRo0xadpckIjawWbNmsfnz57MuXbpoGx8+fJhVqVKFNW7cmK1cuVKGsNE2RkEQAAHfENDWQSeXVoxYPkE6lTPLp4XLyp42ktBOt6ZNm/JixYrxfPny8YYNG3IKzRB6eLULrQf3IAACyU1A6Y8XCtHQIeGEGZoonDAv3Qqy+eijj2R9n376aVC6082pU6e4iF/IaXr74sWLTsWRDwIg4GMCujoY1SnjwYMHG+JHHSpVqhSnBdCdOnXiBQsWNPJeeumlINRe7YIqwQ0IgEDSE9AVQjNQ0dCh8ePHS91r1KgRF0GizZp1TKP1hCtWrJDxCNX4aBp6zpw5jrYUx5CcyEqVKhn627lzZ04hbXCAAAgkJgGlE06ji6pD2KRJE0N0hg4dyq9cuWL0Z/Xq1ZwCqqqOLlmyxMjzamdUgAsQAAEQEASUvniBkd06RPpXunRpGSZm8+bNXrokbb766itepkwZY2xqjBTkf968ebb1tm7dWs7OKBt1ptkaiveKAwRAIPEIqP/nTiOLqkMo1qcYokUhDkIPsYbGyKepZHV4tVP2OIMACIAAEdAVQjNa2a1DSu8oIH92HBTWhr7wFDjbUrFiRceNJbTjeNWqVcYOY8WIlvTgAAEQSDwC6v+408iiuqlEBFFlly9fFn1h7NKlS+z++++X1+ovEUaBVa5cmZxSJtYVsp9++klmebVT9eIMAiAAAkRAezG1Ca7s1KF169YxsauYtWvXjok3fEa/TJp1nbRv3z4m3vAx+q4yHdu2bWMijIxjPaS7AwYMYFOmTJFlxdQxE2FrHO1QAARAwF8EdHUwqg7hI488wnbu3CnJie9sMhEtP4yiCHvARNBVmS7WsTAR0JV5tQurHAkgAAJJTUBXCM0gZZcO0W5eEZifiWleJjaqMBFg2qy5iNJot/Jbb70l6/jyyy+Z+CqJVn1iGlv2i8516tRhO3bs0LJDIRAAAf8Q0NZBp1eIYshy2sWpnFk+ReJX9hSQ1exQkfsLFSpkLLL2amdWP9JAAASSl4DSHy8EskOHxMwIr1WrFq9atSqnDR3ROugLJmqs4m2kq2YoHiLZtmnTxpUdCoMACPiDgNIGp95GdQ3hmDFjDJH64osvTPuiHMLASPle7UwbQCIIgEDSEtAVQjNAkeoQbSJp0aIFp8/CHTp0yKyJbEujr5GosboNI9O/f39pO2jQoGzrDyoCARDIOQSUNjj1KKoOoVjbYuwk7tGjh2lfKD4hdXb06NFGvlc7owJcgAAIgIAgoCuEZrAi0SGxdprTLmURhJrv3r3brHr+7bffylisppkuE+mTdTTW9u3bu7TkvH79+nLn8/r1613bwgAEQCDnE9DVwag6hIQp8CmbQs0EHosWLZIiRiEU6APygYdXu8A6cA0CIJDcBHSF0IqSFx2imH5izaDUtoEDB3KxacP4Q5+I++STT2Q81sKFC/N+/foFNb1lyxZeu3ZtLtbz8a1btxp5WVlZMrD/3Llzw8LD0BvBtLQ0GU4mMzPTsFEXGzdu5BS4mhzc0GPcuHGyn3369AnNwj0IgECCENDVwag7hBRElaZNqEO0lmbXrl0S8fbt2zm9HUxNTeVmMbm82iXI74dhgAAIZAMBXSG0asqtDolP0vEGDRpIvVNt250p/Evg0bdvX8OWrtVBMyiqHvq6CN3Tl04oVAwFmSYtFZ8GVcWN8507d3hKSoq0FQvLudhswjMyMjh9o5mmiilN7DQOihFrGOMCBEAgIQgo7XAaTNQdQuqACCfD6QlUdap48eJc7Djm4huaXOwwtuyjVzvLCpEBAiCQVASU5kQyaDc6NHz4cEPnVNtWZ4oZGPq1EvUlE7Kha3UcPHiQizA4YXVToGvSVrsvjfTq1SvMjj4KULduXU5TzThAAAQSm4DSIKdRRjXsjOhE0HHu3Dkm3hAyEVFfxs0SUyZB+VY3Xu2s6kM6CIBAchDQDreggSNWOrRhwwbZG/F5u6BeiWljtnfvXnb27FlGMRLT09OZeLgOKmN1IxxKduzYMRmrUEwvM/qTJ08eq+JIBwEQSCACujoYU4cwgfhiKCAAAj4goCuEPhgKuggCIAACngjo6iAcQk94YQQCIOAHArpC6IexoI8gAAIg4IWArg7CIfRCFzYgAAK+IKArhL4YDDoJAiAAAh4I6OogHEIPcGECAiDgDwK6QuiP0aCXIAACIOCegK4OwiF0zxYWIAACPiGgK4Q+GQ66CQIgAAKuCejqIBxC12hhAAIg4BcCukLol/GgnyAAAiDgloCuDsIhdEsW5UEABHxDQFcIfTMgdBQEQAAEXBLQ1UFth9Bl+ygOAiAAAiAAAiAAAiCQQwiIwNS2PYFDaIsHmSAAAiAAAiAAAiDgfwLZ5hA6VeR/VBgBCIBAohHQnSpJtHFjPCAAAiCgCOjqoPYbQjiECi3OIAACfiGgK4R+GQ/6CQIgAAJuCejqIBxCt2RRHgRAwDcEdIXQNwNCR0EABEDAJQFdHYRD6BIsioMACPiHgK4Q+mdE6CkIgAAIuCOgq4NwCN1xRWkQAAEfEdAVQh8NCV0FARAAAVcEdHUQDqErrCgMAiDgJwK6QuinMaGvIAACIOCGgK4Oxs0hzMrKYtu2bWOpqans4YcfdjM2lAUBEAABLQK6QqhVWUAhXf26d+8eO3bsGDt9+jRLS0tjJUqUCKgl8ssbN26w3bt3s0cffdR1ZZmZmaxYsWJSg10bwwAEQMA3BHR1MG4O4a9+9Ss2e/Zs1rFjR7Zo0SJLsLS7uXXr1uzIkSOmZTIyMlidOnVM85AIAiCQ3AR0hdAtJR39mjNnDvv973/Pjh8/blRfvXp1NmPGDNawYUMjzcvF1atX2cSJE9mYMWMYaeSZM2e0q9m8eTN7++232cKFC9n48ePZyy+/rG2LgiAAAv4joK2DQkxsDzF0Cm1tW8Zt5ueffy7rpHqFQ2hrPm/ePKOs6os616xZk4sncFt7ZIIACCQvAaUV2UlAR78mT55sqVt58+blmzZt8tSly5cv83fffZeLN41G/aVKldKqa926dbxdu3aGHbGZMGGCli0KgQAI+JeArg7G/A0hPS3TG72LFy+KPjLbN4QCP6tXrx47efIkq1Kliiwf+NfQoUNZ9+7dA5NwDQIgAAIGAe0nY8PC/kJHvw4dOsRq1KjBnn76afbaa6+xxx9/nG3dupUNGDCA7d27VzbQoUMHtnjxYvvGTHI3bNjApk+fzuhN47Bhw9jdu3eZcAi13hAOGTKElSlThi1btoytWLFC1i4cQrwhNOGMJBBIJAK6OhhTh5AcvFatWklxFE+6krfdlPGCBQtY165d2fz589mzzz6bSL8PxgICIBADArpCqNMVXf3q27evfOAVsxssd+7cRtXff/89S09PZ7Tur2zZsvJB18j0cPHEE08wchB1HULVBDmE4k2hvIVDqKjgDAKJS0BbB51eggpEcorBqZxOvljvIusSa2h4xYoV5bXdlHH9+vU5poV1yKIMCICAGYF46JeY0eDC6TPrDhdvC6XuiZkP03w3ieINpKxLd8pY1b1lyxZpR2wwZayo4AwCiUtAVwcdFwfqVuSEcufOnTx//vz8+eefl0WdHEKx4NkQrRYtWvD333+f79u3z6kZ5IMACICAQSBe+mV0IOSiWrVqUtcmTZoUkuP+9plnnvHkEO7YscPQVjiE7rnDAgT8RkBXB2PiENLTcu3atflDDz3EL1y4IFk6OYRiF54hWmow4rUnF+tgLJ++/fYjob8gAALRJaC0I5JWvOiXWXtibaHUtMaNG2eLhv3iF7/w5BDu2rXL0FY4hGa/FNJAILEI6OpgTBxCcuJy5crFV61aZVC2cwjFwm0u1hrK6eICBQoY4qUGJTal8MOHDxt14QIEQAAEzAgozTDL001zq19m9Z46dYqLjSa8XLlyXGyoMyviOg0OoWtkMACBpCSgq4NRdwhXrlzJ6c3e8OHDg34IO4cwsOC1a9f4kiVL+JNPPhnkGNJTtthhF1gU1yAAAiAQREBXCIOMAm4i1S8RkJp/9NFHvFKlSoZ+de7c2ZgpCWjK9SUcQtfIYAACSUlAVwej6hDS9HD58uU5bQ65detW0A+h6xAGGs2aNYtTDC81uLFjxwZm4xoEQAAEgggorQhK1LzJDv0SQfV5vnz5DM1S/aElMTdv3tTsiXkxOITmXJAKAiAQTEDpTnBq+F1UHULaQFKoUCHTzSBeHELqfmCg6rZt24aPCCkgAAIg8P8EdIXQDFh26RetQaTlMmqHseoTBa+O5IBDGAk92IJA8hBQmuM04qjFIRTR/FnPnj1lYFazTyOJncPshx9+YE2aNGFix53oL5Pf+syTJ4+8tvtLTLnIzy6VLFlS1mFXFnkgAALJS0A7/lYIomjolxBjGZx6ypQpsjXSMYq16vXo1q2bjNHqNg4hfftYbPKTzSIOoVf6sAMB/xDQ1cGoOYQU+JQCoLo5tm3bJr9M4mRD3z7u1KkTK1iwIKNveqrBOtkhHwRAILkIKG0gZ8zNES39unLlivxaCJ3pi00iBIybbgWVhUMYhAM3IAACFgR0dTBHOYTbt29ndevWtRjS/5Lp80+1atViTZs2ZWvWrPlfBq5AAARAIICArhAGmMhLLw6hrn6JdYVMbFZhbdq0cf3QHNhPOISBNHANAiBgRUBXB6PmENK3iuntndUhFlUzsQOP0dTxzJkzZTH6zqYIT2NlYqSLXceMvgVK3/IUAauNdFyAAAiAQCABXSEMtKHraOoXfdNYrB9kgwYNYh9//HFo09r3cAi1UaEgCCQ1AV0djJpD6ERfhGFgR48eZXbfMraqg9befPPNN4yeyNPS0qyKIR0EQCDJCegKoVtMkehXgwYNpHatW7eONWrUyG3TRnmxqYR9+eWXLDU1lZ09e9ZId7oQganldDWVGz9+PHvllVecTJAPAiDgYwLaOui060QwkCETnMq5zbfbZSzeGPJmzZrxUaNGcfGW0aj6zp07fMSIEbI/2fHpJ6NiXIAACCQkgXjo18aNG/mnn35qGl1h3LhxUr/69Oljypu+M0xfdaLg+1u3bjUtoxLFLImsq2jRoipJ67xp0yZpR2zEG0otGxQCARDwLwFdHYxq2Bk7fHYOYfPmzQ3BKly4MO/RowcfPHgwpw/CU0yv0aNH21WNPBAAARCQBHSF0C0uK/2ih9aUlBSpX+KpnNP3hjMyMvjixYt5//79ZZB+MWXMxaYS0yb79u1raB9dWx1nzpzhZcuWNcqKt41WRcPS//znPxt2Tz31FL99+3ZYGSSAAAgkDgFdHYybQ1ilShUpSl26dAmjvmLFCk5PvWoQdC5dujQXa2a4mCYOK48EEAABEDAjoDTELC+SNDv96tWrV5B2UR/y58/PxYY5LsLM2DYrpnANW7oOPejLTVWrVg0K0K/GWKFCBS4iNYSaGPcffPABL1GihFG/siMH1uqNpWGMCxAAAd8SUP/XnQYQtzWEooO2hwjmytavX8+ysrJYeno6EyJoWx6ZIAACIBBKQHvtTKhhhPcHDx5kx44dkxvraJ0z/dGJsUrNbtiwQbYeyfrCCLsPcxAAgQQioKuDOdYhTKDfAkMBARCIEwFdIYxT99AsCIAACESdgK4OwiGM+k+BBkAABOJFQFcI49U/tAsCIAAC0Sagq4NwCKP9S6B+EACBuBHQFcK4dRANgwAIgECUCejqoLZDGOX+onoQAAEQAAEQAAEQAIEoERCbSmxrhkNoiweZIAACIAACIAACIOB/AhE7hP5HgBGAAAiAAAiAAAiAAAjYEXB8Q2hnjDwQAAEQAAEQAAEQAAH/E4BD6P/fECMAARAAARAAARAAgYgIwCGMCB+MQQAEQAAEQAAEQMD/BOAQ+v83xAhAAARAAARAAARAICICcAgjwgdjEAABEAABEAABEPA/ATiE/v8NMQIQAAEQAAEQAAEQiIgAHMKI8MEYBEAABEAABEAABPxPAA6h/39DjAAEQAAEQAAEQAAEIiIAhzAifDAGARAAARAAARAAAf8TgEPo/98QIwABEAABEAABEACBiAjAIYwIH4xBAARAAARAAARAwP8E/g/6Cy7AucHfWAAAAABJRU5ErkJggg==)"
      ]
    },
    {
      "cell_type": "markdown",
      "metadata": {
        "id": "i0fhRnMG1h_b"
      },
      "source": [
        "# Evaluate results"
      ]
    },
    {
      "cell_type": "markdown",
      "metadata": {
        "id": "YxpchamFVN-S"
      },
      "source": [
        "As a regression, Random Forest can evaluate by following factors.\n",
        "\n",
        "*   **Explained variance score**\n",
        "*   **Mean absolute error (MAE)**\n",
        "*   **R2 score**\n",
        "*   **Accuracy**\n",
        "\n",
        "By using sklearn.metrics library the author can calculate mentioned metrics according to the trained model."
      ]
    },
    {
      "cell_type": "code",
      "execution_count": null,
      "metadata": {
        "colab": {
          "base_uri": "https://localhost:8080/"
        },
        "id": "6EKWN6AnVN-S",
        "outputId": "b60376cf-2597-4458-c0cf-ea1c79053888"
      },
      "outputs": [
        {
          "name": "stdout",
          "output_type": "stream",
          "text": [
            "Explained variance score :  0.912\n",
            "Mean Absolute Error (MAE) :  3.596\n",
            "R2 score :  0.911\n",
            "Mean Absolute Percentage Error (MAPE): 5.673\n",
            "Accuracy :  94.33 %\n"
          ]
        }
      ],
      "source": [
        "import sklearn.metrics as sm\n",
        "\n",
        "print('Explained variance score : ', round(sm.explained_variance_score(dep_var_test, dep_var_pred),3))\n",
        "print('Mean Absolute Error (MAE) : ', round(sm.mean_absolute_error(dep_var_test, dep_var_pred),3))\n",
        "print('R2 score : ', round(sm.r2_score(dep_var_test, dep_var_pred),3))\n",
        "mape = np.mean(np.abs((dep_var_test - dep_var_pred) / np.abs(dep_var_test)))\n",
        "print('Mean Absolute Percentage Error (MAPE):', round(mape * 100, 3))\n",
        "print('Accuracy : ', round(100*(1 - mape), 2),'%')"
      ]
    },
    {
      "cell_type": "markdown",
      "metadata": {
        "id": "C_xeUC2bVN-S"
      },
      "source": [
        "*   **Explained variance score** – trained model has a value of 0.91 of explained variance score. Since this value is way closer to 1.0, the author can assume that the model delivers a good prediction.\n",
        "\n",
        "*   **Mean absolute error (MAE)** – trained model has a value of 3.59 of MAE. This explains that predicted output value can be increase by 3.59 or decrease by 3.59. As an example, when predicted writing exam score is 80, the real writing exam score can be 76.41 (80-3.59) or can be 83.59 (80+3.59).\n",
        "\n",
        "*   **R2 score** – trained model has a value of 0.91 of R2 score. Since this value is way closer to 1.0, the author can assume that the model delivers a near perfect prediction.\n",
        "\n",
        "*   **Accuracy** - trained model has a 94.33% accuracy. So, the author also can assume that the model delivers a near perfect prediction.\n"
      ]
    },
    {
      "cell_type": "markdown",
      "metadata": {
        "id": "sQuKmhRn1-Rf"
      },
      "source": [
        "Considering the MAE predicted exam scores can deviate from 3,59. Following table represents the deviated predicted values. \n",
        "\n",
        "![Screenshot 2023-01-17 at 6.35.28 PM.png](data:image/png;base64,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)"
      ]
    },
    {
      "cell_type": "markdown",
      "metadata": {
        "id": "Je-TtbX8cq7v"
      },
      "source": [
        "Since the Random Forest Regression is based on a bunch of decision trees, time complexity, and space complexity can be reached to a higher value. But the final outcome will be more accurate sinceusing the most voted method on decision tree results. \n",
        "So, the implemented model can predict a most accurate writing exam result and the predicted result can be use to evaluate student performance. Administators or teachers can conduct a student cented education system based on predicted exam score from this implemeted model."
      ]
    }
  ],
  "metadata": {
    "colab": {
      "provenance": []
    },
    "kernelspec": {
      "display_name": "Python 3 (ipykernel)",
      "language": "python",
      "name": "python3"
    },
    "language_info": {
      "codemirror_mode": {
        "name": "ipython",
        "version": 3
      },
      "file_extension": ".py",
      "mimetype": "text/x-python",
      "name": "python",
      "nbconvert_exporter": "python",
      "pygments_lexer": "ipython3",
      "version": "3.9.12"
    }
  },
  "nbformat": 4,
  "nbformat_minor": 0
}